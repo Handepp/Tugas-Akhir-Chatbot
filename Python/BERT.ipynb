{
 "cells": [
  {
   "attachments": {},
   "cell_type": "markdown",
   "metadata": {},
   "source": [
    "# Wahana Cerdas Chatbot"
   ]
  },
  {
   "attachments": {},
   "cell_type": "markdown",
   "metadata": {},
   "source": [
    "### Install Library"
   ]
  },
  {
   "cell_type": "code",
   "execution_count": 1,
   "metadata": {},
   "outputs": [
    {
     "data": {
      "text/plain": [
       "\"# Package sentence tokenizer\\nnltk.download('punkt') \\n# Package lemmatization\\nnltk.download('wordnet')\\n# Package multilingual wordnet data\\nnltk.download('omw-1.4')\""
      ]
     },
     "execution_count": 1,
     "metadata": {},
     "output_type": "execute_result"
    }
   ],
   "source": [
    "import random\n",
    "import numpy as np \n",
    "import pandas as pd \n",
    "\n",
    "import matplotlib.pyplot as plt\n",
    "import seaborn as sns\n",
    "import json\n",
    "import nltk\n",
    "import time\n",
    "import re\n",
    "import swifter\n",
    "\n",
    "from sklearn.model_selection import train_test_split\n",
    "from sklearn.preprocessing import LabelEncoder\n",
    "import tensorflow as tf\n",
    "import transformers\n",
    "from transformers import BertTokenizer\n",
    "from transformers import TFBertForSequenceClassification\n",
    "\n",
    "from nltk.stem import WordNetLemmatizer\n",
    "from keras.utils.vis_utils import plot_model\n",
    "from tensorflow.keras.models import Model\n",
    "from tensorflow.keras.preprocessing.text import Tokenizer\n",
    "from tensorflow.keras.layers import Input, Embedding, LSTM\n",
    "from tensorflow.keras.preprocessing.sequence import pad_sequences\n",
    "from tensorflow.keras.layers import Flatten, Dense, GlobalMaxPool1D\n",
    "\n",
    "from urllib import request\n",
    "\n",
    "import warnings\n",
    "warnings.filterwarnings(\"ignore\")\n",
    "\n",
    "'''# Package sentence tokenizer\n",
    "nltk.download('punkt') \n",
    "# Package lemmatization\n",
    "nltk.download('wordnet')\n",
    "# Package multilingual wordnet data\n",
    "nltk.download('omw-1.4')'''"
   ]
  },
  {
   "attachments": {},
   "cell_type": "markdown",
   "metadata": {},
   "source": [
    "### Data Acquisition"
   ]
  },
  {
   "cell_type": "code",
   "execution_count": 2,
   "metadata": {},
   "outputs": [
    {
     "data": {
      "text/plain": [
       "('Data%20Wahana.json', <http.client.HTTPMessage at 0x247056eb790>)"
      ]
     },
     "execution_count": 2,
     "metadata": {},
     "output_type": "execute_result"
    }
   ],
   "source": [
    "url = \"https://raw.githubusercontent.com/Handepp/Tugas-Akhir-Chatbot/main/Dataset/Data%20Wahana.json\"\n",
    "request.urlretrieve(url, \"Data%20Wahana.json\")"
   ]
  },
  {
   "cell_type": "code",
   "execution_count": 3,
   "metadata": {},
   "outputs": [],
   "source": [
    "# Importing the dataset\n",
    "with open('Data%20Wahana.json') as content:\n",
    "  data1 = json.load(content)\n",
    "\n",
    "# Mendapatkan semua data ke dalam list\n",
    "tags = [] # data tag\n",
    "inputs = [] # data input atau pattern\n",
    "responses = {} # data respon\n",
    "words = [] # Data kata \n",
    "classes = [] # Data Kelas atau Tag\n",
    "documents = [] # Data Kalimat Dokumen\n",
    "ignore_words = ['?', '!'] # Mengabaikan tanda spesial karakter\n",
    "\n",
    "for intent in data1['intents']:\n",
    "  responses[intent['tag']]=intent['responses']\n",
    "  for lines in intent['patterns']:\n",
    "    inputs.append(lines)\n",
    "    tags.append(intent['tag'])\n",
    "    for pattern in intent['patterns']:\n",
    "      w = nltk.word_tokenize(pattern)\n",
    "      words.extend(w)\n",
    "      documents.append((w, intent['tag']))\n",
    "      # add to our classes list\n",
    "      if intent['tag'] not in classes:\n",
    "        classes.append(intent['tag'])\n",
    "\n",
    "# Konversi data json ke dalam dataframe\n",
    "data = pd.DataFrame({\"patterns\":inputs, \"tags\":tags})"
   ]
  },
  {
   "cell_type": "code",
   "execution_count": 4,
   "metadata": {},
   "outputs": [
    {
     "data": {
      "text/html": [
       "<div>\n",
       "<style scoped>\n",
       "    .dataframe tbody tr th:only-of-type {\n",
       "        vertical-align: middle;\n",
       "    }\n",
       "\n",
       "    .dataframe tbody tr th {\n",
       "        vertical-align: top;\n",
       "    }\n",
       "\n",
       "    .dataframe thead th {\n",
       "        text-align: right;\n",
       "    }\n",
       "</style>\n",
       "<table border=\"1\" class=\"dataframe\">\n",
       "  <thead>\n",
       "    <tr style=\"text-align: right;\">\n",
       "      <th></th>\n",
       "      <th>patterns</th>\n",
       "      <th>tags</th>\n",
       "    </tr>\n",
       "  </thead>\n",
       "  <tbody>\n",
       "    <tr>\n",
       "      <th>0</th>\n",
       "      <td>Siapa kamu?</td>\n",
       "      <td>Wardas.siapa</td>\n",
       "    </tr>\n",
       "    <tr>\n",
       "      <th>1</th>\n",
       "      <td>Kamu siapa?</td>\n",
       "      <td>Wardas.siapa</td>\n",
       "    </tr>\n",
       "    <tr>\n",
       "      <th>2</th>\n",
       "      <td>Ini apa?</td>\n",
       "      <td>Wardas.siapa</td>\n",
       "    </tr>\n",
       "    <tr>\n",
       "      <th>3</th>\n",
       "      <td>Kamu apa?</td>\n",
       "      <td>Wardas.siapa</td>\n",
       "    </tr>\n",
       "    <tr>\n",
       "      <th>4</th>\n",
       "      <td>Robot apakah kamu?</td>\n",
       "      <td>Wardas.siapa</td>\n",
       "    </tr>\n",
       "    <tr>\n",
       "      <th>...</th>\n",
       "      <td>...</td>\n",
       "      <td>...</td>\n",
       "    </tr>\n",
       "    <tr>\n",
       "      <th>186</th>\n",
       "      <td>Beritahu dayamu</td>\n",
       "      <td>wardas.Baterai</td>\n",
       "    </tr>\n",
       "    <tr>\n",
       "      <th>187</th>\n",
       "      <td>Beritahu nilai baterai mu</td>\n",
       "      <td>wardas.Baterai</td>\n",
       "    </tr>\n",
       "    <tr>\n",
       "      <th>188</th>\n",
       "      <td>Berapa lagi baterai yang kamu miliki</td>\n",
       "      <td>wardas.Baterai</td>\n",
       "    </tr>\n",
       "    <tr>\n",
       "      <th>189</th>\n",
       "      <td>Jumlah kapasitas bateraimu</td>\n",
       "      <td>wardas.Baterai</td>\n",
       "    </tr>\n",
       "    <tr>\n",
       "      <th>190</th>\n",
       "      <td>Berapa persen lagi baterai yang kamu punya</td>\n",
       "      <td>wardas.Baterai</td>\n",
       "    </tr>\n",
       "  </tbody>\n",
       "</table>\n",
       "<p>191 rows × 2 columns</p>\n",
       "</div>"
      ],
      "text/plain": [
       "                                       patterns            tags\n",
       "0                                   Siapa kamu?    Wardas.siapa\n",
       "1                                   Kamu siapa?    Wardas.siapa\n",
       "2                                      Ini apa?    Wardas.siapa\n",
       "3                                     Kamu apa?    Wardas.siapa\n",
       "4                            Robot apakah kamu?    Wardas.siapa\n",
       "..                                          ...             ...\n",
       "186                             Beritahu dayamu  wardas.Baterai\n",
       "187                   Beritahu nilai baterai mu  wardas.Baterai\n",
       "188        Berapa lagi baterai yang kamu miliki  wardas.Baterai\n",
       "189                  Jumlah kapasitas bateraimu  wardas.Baterai\n",
       "190  Berapa persen lagi baterai yang kamu punya  wardas.Baterai\n",
       "\n",
       "[191 rows x 2 columns]"
      ]
     },
     "execution_count": 4,
     "metadata": {},
     "output_type": "execute_result"
    }
   ],
   "source": [
    "# Cetak data keseluruhan\n",
    "data "
   ]
  },
  {
   "cell_type": "code",
   "execution_count": 5,
   "metadata": {},
   "outputs": [
    {
     "data": {
      "text/plain": [
       "Wardas.siapa          15\n",
       "wardas.buruk          11\n",
       "wardas.usia           10\n",
       "wardas.hari            8\n",
       "wardas.beban           7\n",
       "wardas.tanggal         7\n",
       "wardas.terimakasih     7\n",
       "wardas.lokasi          7\n",
       "wardas.Baterai         7\n",
       "wardas.insaf           7\n",
       "wardas.sapa            6\n",
       "wardas.fast            6\n",
       "wardas.medium          6\n",
       "wardas.slow            6\n",
       "wardas.jam             6\n",
       "wardas.benar           5\n",
       "wardas.hobby           5\n",
       "wardas.bos             5\n",
       "wardas.bantu           5\n",
       "wardas.berpisah        5\n",
       "wardas.hump            5\n",
       "wardas.ngobrol         5\n",
       "wardas.suhu            5\n",
       "wardas.siap            5\n",
       "wardas.baik            5\n",
       "wardas.asal            5\n",
       "wardas.sore            5\n",
       "wardas.pagi            5\n",
       "wardas.siang           5\n",
       "wardas.malam           5\n",
       "Name: tags, dtype: int64"
      ]
     },
     "execution_count": 5,
     "metadata": {},
     "output_type": "execute_result"
    }
   ],
   "source": [
    "data.tags.value_counts()"
   ]
  },
  {
   "cell_type": "code",
   "execution_count": 6,
   "metadata": {},
   "outputs": [
    {
     "name": "stdout",
     "output_type": "stream",
     "text": [
      "30 classes ['Wardas.siapa', 'wardas.Baterai', 'wardas.asal', 'wardas.baik', 'wardas.bantu', 'wardas.beban', 'wardas.benar', 'wardas.berpisah', 'wardas.bos', 'wardas.buruk', 'wardas.fast', 'wardas.hari', 'wardas.hobby', 'wardas.hump', 'wardas.insaf', 'wardas.jam', 'wardas.lokasi', 'wardas.malam', 'wardas.medium', 'wardas.ngobrol', 'wardas.pagi', 'wardas.sapa', 'wardas.siang', 'wardas.siap', 'wardas.slow', 'wardas.sore', 'wardas.suhu', 'wardas.tanggal', 'wardas.terimakasih', 'wardas.usia']\n"
     ]
    }
   ],
   "source": [
    "# sort classes\n",
    "classes = sorted(list(set(classes)))\n",
    "print (len(classes), \"classes\", classes)"
   ]
  },
  {
   "attachments": {},
   "cell_type": "markdown",
   "metadata": {},
   "source": [
    "### Preprocessing"
   ]
  },
  {
   "cell_type": "code",
   "execution_count": 7,
   "metadata": {},
   "outputs": [],
   "source": [
    "def casefolding(text):\n",
    "  text = text.lower()                               # Mengubah teks menjadi lower case\n",
    "  text = re.sub(r'https?://\\S+|www\\.\\S+', '', text) # Menghapus URL\n",
    "  #text = re.sub(r'[-+]?[0-9]+', '', text)           # Menghapus angka\n",
    "  text = re.sub(r'[^\\w\\s]','', text)                # Menghapus karakter tanda baca\n",
    "  text = text.strip()                               # Menghapus whitespaces\n",
    "  return text"
   ]
  },
  {
   "cell_type": "code",
   "execution_count": 8,
   "metadata": {},
   "outputs": [
    {
     "name": "stdout",
     "output_type": "stream",
     "text": [
      "   _id      singkat       hasil\n",
      "0    1         abis       habis\n",
      "1    2       accent     tekanan\n",
      "2    3       accept      terima\n",
      "3    4     accident  kecelakaan\n",
      "4    5  achievement    prestasi\n"
     ]
    }
   ],
   "source": [
    "key= \"https://raw.githubusercontent.com/ksnugroho/klasifikasi-spam-sms/master/data/key_norm.csv\"\n",
    "request.urlretrieve(key, \"key_norm.csv\")\n",
    "key_norm = pd.read_csv('key_norm.csv')\n",
    "print(key_norm.head())"
   ]
  },
  {
   "cell_type": "code",
   "execution_count": 9,
   "metadata": {},
   "outputs": [],
   "source": [
    "def text_normalize(text):\n",
    "  text = ' '.join([key_norm[key_norm['singkat'] == word]['hasil'].values[0] if (key_norm['singkat'] == word).any() else word for word in text.split()])\n",
    "  text = str.lower(text)\n",
    "  return text"
   ]
  },
  {
   "cell_type": "code",
   "execution_count": 10,
   "metadata": {},
   "outputs": [],
   "source": [
    "from Sastrawi.Stemmer.StemmerFactory import StemmerFactory\n",
    "\n",
    "factory = StemmerFactory()\n",
    "stemmer = factory.create_stemmer()\n",
    "\n",
    "# Buat fungsi untuk langkah stemming bahasa Indonesia\n",
    "def stemming(text):\n",
    "  text = stemmer.stem(text)\n",
    "  return text"
   ]
  },
  {
   "cell_type": "code",
   "execution_count": 11,
   "metadata": {},
   "outputs": [],
   "source": [
    "def text_preprocessing_process(text):\n",
    "  text = casefolding(text)\n",
    "  text = text_normalize(text)\n",
    "  text = stemming(text)\n",
    "  return text"
   ]
  },
  {
   "cell_type": "code",
   "execution_count": 12,
   "metadata": {},
   "outputs": [
    {
     "data": {
      "application/vnd.jupyter.widget-view+json": {
       "model_id": "1444aca4463843928d8ab56831d046f6",
       "version_major": 2,
       "version_minor": 0
      },
      "text/plain": [
       "Pandas Apply:   0%|          | 0/191 [00:00<?, ?it/s]"
      ]
     },
     "metadata": {},
     "output_type": "display_data"
    },
    {
     "name": "stdout",
     "output_type": "stream",
     "text": [
      "CPU times: total: 3.25 s\n",
      "Wall time: 3.3 s\n"
     ]
    }
   ],
   "source": [
    "%%time\n",
    "data['patterns'] = data['patterns'].swifter.apply(text_preprocessing_process)"
   ]
  },
  {
   "cell_type": "code",
   "execution_count": 13,
   "metadata": {},
   "outputs": [
    {
     "data": {
      "text/html": [
       "<div>\n",
       "<style scoped>\n",
       "    .dataframe tbody tr th:only-of-type {\n",
       "        vertical-align: middle;\n",
       "    }\n",
       "\n",
       "    .dataframe tbody tr th {\n",
       "        vertical-align: top;\n",
       "    }\n",
       "\n",
       "    .dataframe thead th {\n",
       "        text-align: right;\n",
       "    }\n",
       "</style>\n",
       "<table border=\"1\" class=\"dataframe\">\n",
       "  <thead>\n",
       "    <tr style=\"text-align: right;\">\n",
       "      <th></th>\n",
       "      <th>patterns</th>\n",
       "      <th>tags</th>\n",
       "    </tr>\n",
       "  </thead>\n",
       "  <tbody>\n",
       "    <tr>\n",
       "      <th>0</th>\n",
       "      <td>siapa kamu</td>\n",
       "      <td>Wardas.siapa</td>\n",
       "    </tr>\n",
       "    <tr>\n",
       "      <th>1</th>\n",
       "      <td>kamu siapa</td>\n",
       "      <td>Wardas.siapa</td>\n",
       "    </tr>\n",
       "    <tr>\n",
       "      <th>2</th>\n",
       "      <td>ini apa</td>\n",
       "      <td>Wardas.siapa</td>\n",
       "    </tr>\n",
       "    <tr>\n",
       "      <th>3</th>\n",
       "      <td>kamu apa</td>\n",
       "      <td>Wardas.siapa</td>\n",
       "    </tr>\n",
       "    <tr>\n",
       "      <th>4</th>\n",
       "      <td>robot apakah kamu</td>\n",
       "      <td>Wardas.siapa</td>\n",
       "    </tr>\n",
       "    <tr>\n",
       "      <th>...</th>\n",
       "      <td>...</td>\n",
       "      <td>...</td>\n",
       "    </tr>\n",
       "    <tr>\n",
       "      <th>186</th>\n",
       "      <td>beritahu daya</td>\n",
       "      <td>wardas.Baterai</td>\n",
       "    </tr>\n",
       "    <tr>\n",
       "      <th>187</th>\n",
       "      <td>beritahu nilai baterai mu</td>\n",
       "      <td>wardas.Baterai</td>\n",
       "    </tr>\n",
       "    <tr>\n",
       "      <th>188</th>\n",
       "      <td>berapa lagi baterai yang kamu milik</td>\n",
       "      <td>wardas.Baterai</td>\n",
       "    </tr>\n",
       "    <tr>\n",
       "      <th>189</th>\n",
       "      <td>jumlah kapasitas baterai</td>\n",
       "      <td>wardas.Baterai</td>\n",
       "    </tr>\n",
       "    <tr>\n",
       "      <th>190</th>\n",
       "      <td>berapa persen lagi baterai yang kamu punya</td>\n",
       "      <td>wardas.Baterai</td>\n",
       "    </tr>\n",
       "  </tbody>\n",
       "</table>\n",
       "<p>191 rows × 2 columns</p>\n",
       "</div>"
      ],
      "text/plain": [
       "                                       patterns            tags\n",
       "0                                    siapa kamu    Wardas.siapa\n",
       "1                                    kamu siapa    Wardas.siapa\n",
       "2                                       ini apa    Wardas.siapa\n",
       "3                                      kamu apa    Wardas.siapa\n",
       "4                             robot apakah kamu    Wardas.siapa\n",
       "..                                          ...             ...\n",
       "186                               beritahu daya  wardas.Baterai\n",
       "187                   beritahu nilai baterai mu  wardas.Baterai\n",
       "188         berapa lagi baterai yang kamu milik  wardas.Baterai\n",
       "189                    jumlah kapasitas baterai  wardas.Baterai\n",
       "190  berapa persen lagi baterai yang kamu punya  wardas.Baterai\n",
       "\n",
       "[191 rows x 2 columns]"
      ]
     },
     "execution_count": 13,
     "metadata": {},
     "output_type": "execute_result"
    }
   ],
   "source": [
    "data"
   ]
  },
  {
   "attachments": {},
   "cell_type": "markdown",
   "metadata": {},
   "source": [
    "## BERT"
   ]
  },
  {
   "cell_type": "code",
   "execution_count": 14,
   "metadata": {},
   "outputs": [],
   "source": [
    "labelencoder = LabelEncoder()\n",
    "data['tags'] = labelencoder.fit_transform(data['tags'])"
   ]
  },
  {
   "cell_type": "code",
   "execution_count": 15,
   "metadata": {},
   "outputs": [
    {
     "data": {
      "text/plain": [
       "((124, 2), (24, 2), (43, 2))"
      ]
     },
     "execution_count": 15,
     "metadata": {},
     "output_type": "execute_result"
    }
   ],
   "source": [
    "df_train, df_test = train_test_split(data, test_size=0.35)\n",
    "df_val, df_test = train_test_split(df_test, test_size=0.35)\n",
    "\n",
    "df_train.shape, df_test.shape, df_val.shape"
   ]
  },
  {
   "cell_type": "code",
   "execution_count": 16,
   "metadata": {},
   "outputs": [],
   "source": [
    "# Tentukan pre-trained model yang akan digunakan untuk fine-tuning\n",
    "# Daftar model dapat ditemukan pada https://huggingface.co\n",
    "\n",
    "PRE_TRAINED_MODEL = 'indobenchmark/indobert-base-p2'  # https://huggingface.co/indobenchmark/indobert-base-p2\n",
    "bert_tokenizer = BertTokenizer.from_pretrained(PRE_TRAINED_MODEL)  # Load tokenizer dari pre-trained model\n",
    "vocabulary = bert_tokenizer.get_vocab()"
   ]
  },
  {
   "cell_type": "code",
   "execution_count": 17,
   "metadata": {},
   "outputs": [
    {
     "data": {
      "image/png": "[encoded data removed]",
      "text/plain": [
       "<Figure size 640x480 with 1 Axes>"
      ]
     },
     "metadata": {},
     "output_type": "display_data"
    }
   ],
   "source": [
    "token_lens = []\n",
    "\n",
    "for txt in data.patterns:\n",
    "  tokens = bert_tokenizer.encode(txt)\n",
    "  token_lens.append(len(tokens))\n",
    "\n",
    "sns.histplot(token_lens, kde=True, stat='density', linewidth=0)\n",
    "plt.xlim([0, 15]);\n",
    "plt.xlabel('Token count');"
   ]
  },
  {
   "cell_type": "code",
   "execution_count": 18,
   "metadata": {},
   "outputs": [],
   "source": [
    "MAX_LEN = 11"
   ]
  },
  {
   "cell_type": "code",
   "execution_count": 19,
   "metadata": {},
   "outputs": [],
   "source": [
    "def convert_example_to_feature(sentence):  \n",
    "  return bert_tokenizer.encode_plus(\n",
    "      sentence, \n",
    "      add_special_tokens = True, \n",
    "      padding = 'max_length',\n",
    "      truncation = 'longest_first',\n",
    "      max_length = MAX_LEN, \n",
    "      return_attention_mask = True, \n",
    "      return_token_type_ids=True\n",
    "    )\n",
    "\n",
    "def map_example_to_dict(input_ids, attention_masks, token_type_ids, label):\n",
    "  return {\n",
    "      \"input_ids\": input_ids,               # Sebagai token embedding\n",
    "      \"token_type_ids\": token_type_ids,     # Sebagai segment embedding\n",
    "      \"attention_mask\": attention_masks,    # Sebagai filter informasi mana yang kalkulasi oleh model\n",
    "  }, label\n",
    "\n",
    "# Buat fungsi untuk iterasi pada setiap kalimat pada keseluruhan data\n",
    "def encode(data):\n",
    "  input_ids_list = []\n",
    "  token_type_ids_list = []\n",
    "  attention_mask_list = []\n",
    "  label_list = []\n",
    "    \n",
    "  for sentence, label in data.to_numpy():\n",
    "\n",
    "    bert_input = convert_example_to_feature(sentence)\n",
    "  \n",
    "    input_ids_list.append(bert_input['input_ids'])\n",
    "    token_type_ids_list.append(bert_input['token_type_ids'])\n",
    "    attention_mask_list.append(bert_input['attention_mask'])\n",
    "    label_list.append([label])\n",
    "\n",
    "  return tf.data.Dataset.from_tensor_slices((input_ids_list, attention_mask_list, token_type_ids_list, label_list)).map(map_example_to_dict)"
   ]
  },
  {
   "cell_type": "code",
   "execution_count": 20,
   "metadata": {},
   "outputs": [],
   "source": [
    "EPOCHS = 50\n",
    "BATCH_SIZE = 32\n",
    "LEARNING_RATE = 5e-5"
   ]
  },
  {
   "cell_type": "code",
   "execution_count": 21,
   "metadata": {},
   "outputs": [],
   "source": [
    "# Lakukan input formatting menggunakan fungsi sebelumnya pada data keseluruhan data\n",
    "train_encoded = encode(df_train).batch(BATCH_SIZE)\n",
    "test_encoded = encode(df_test).batch(BATCH_SIZE)\n",
    "val_encoded = encode(df_val).batch(BATCH_SIZE)"
   ]
  },
  {
   "cell_type": "code",
   "execution_count": 22,
   "metadata": {},
   "outputs": [
    {
     "name": "stderr",
     "output_type": "stream",
     "text": [
      "All model checkpoint layers were used when initializing TFBertForSequenceClassification.\n",
      "\n",
      "Some layers of TFBertForSequenceClassification were not initialized from the model checkpoint at indobenchmark/indobert-base-p2 and are newly initialized: ['classifier']\n",
      "You should probably TRAIN this model on a down-stream task to be able to use it for predictions and inference.\n"
     ]
    }
   ],
   "source": [
    "bert_model = TFBertForSequenceClassification.from_pretrained(PRE_TRAINED_MODEL, num_labels=30)\n",
    "\n",
    "optimizer = tf.keras.optimizers.Adam(learning_rate=LEARNING_RATE)\n",
    "\n",
    "# Karena tidak menggunakan one-hot vectors, sehingga loss function dapat menggunakan sparse categorical cross entropy\n",
    "loss = tf.keras.losses.SparseCategoricalCrossentropy(from_logits=True)\n",
    "metric = tf.keras.metrics.SparseCategoricalAccuracy('accuracy')\n",
    "\n",
    "# Compile model\n",
    "bert_model.compile(optimizer=optimizer, loss=loss, metrics=[metric])"
   ]
  },
  {
   "cell_type": "code",
   "execution_count": 23,
   "metadata": {},
   "outputs": [
    {
     "name": "stdout",
     "output_type": "stream",
     "text": [
      "Epoch 1/50\n",
      "4/4 [==============================] - 19s 1s/step - loss: 3.3980 - accuracy: 0.1129 - val_loss: 2.9657 - val_accuracy: 0.3023\n",
      "Epoch 2/50\n",
      "4/4 [==============================] - 1s 260ms/step - loss: 2.7399 - accuracy: 0.3871 - val_loss: 2.5909 - val_accuracy: 0.4419\n",
      "Epoch 3/50\n",
      "4/4 [==============================] - 1s 260ms/step - loss: 2.1767 - accuracy: 0.7177 - val_loss: 2.1673 - val_accuracy: 0.6047\n",
      "Epoch 4/50\n",
      "4/4 [==============================] - 1s 285ms/step - loss: 1.7066 - accuracy: 0.8871 - val_loss: 1.7984 - val_accuracy: 0.6744\n",
      "Epoch 5/50\n",
      "4/4 [==============================] - 1s 259ms/step - loss: 1.2855 - accuracy: 0.9435 - val_loss: 1.5115 - val_accuracy: 0.7907\n",
      "Epoch 6/50\n",
      "4/4 [==============================] - 1s 261ms/step - loss: 0.9904 - accuracy: 0.9758 - val_loss: 1.2606 - val_accuracy: 0.8605\n",
      "Epoch 7/50\n",
      "4/4 [==============================] - 1s 270ms/step - loss: 0.7233 - accuracy: 0.9919 - val_loss: 1.0468 - val_accuracy: 0.8605\n",
      "Epoch 8/50\n",
      "4/4 [==============================] - 1s 260ms/step - loss: 0.5420 - accuracy: 1.0000 - val_loss: 0.8849 - val_accuracy: 0.9070\n",
      "Epoch 9/50\n",
      "4/4 [==============================] - 1s 258ms/step - loss: 0.4176 - accuracy: 1.0000 - val_loss: 0.7711 - val_accuracy: 0.9302\n",
      "Epoch 10/50\n",
      "4/4 [==============================] - 1s 260ms/step - loss: 0.3241 - accuracy: 1.0000 - val_loss: 0.6940 - val_accuracy: 0.9302\n",
      "Epoch 11/50\n",
      "4/4 [==============================] - 1s 258ms/step - loss: 0.2620 - accuracy: 1.0000 - val_loss: 0.6270 - val_accuracy: 0.9070\n",
      "Epoch 12/50\n",
      "4/4 [==============================] - 1s 259ms/step - loss: 0.2155 - accuracy: 1.0000 - val_loss: 0.5754 - val_accuracy: 0.9070\n",
      "Epoch 13/50\n",
      "4/4 [==============================] - 1s 258ms/step - loss: 0.1811 - accuracy: 1.0000 - val_loss: 0.5500 - val_accuracy: 0.9070\n",
      "Epoch 14/50\n",
      "4/4 [==============================] - 1s 266ms/step - loss: 0.1588 - accuracy: 1.0000 - val_loss: 0.5327 - val_accuracy: 0.9070\n",
      "Epoch 15/50\n",
      "4/4 [==============================] - 1s 257ms/step - loss: 0.1389 - accuracy: 1.0000 - val_loss: 0.5182 - val_accuracy: 0.9070\n",
      "Epoch 16/50\n",
      "4/4 [==============================] - 1s 257ms/step - loss: 0.1245 - accuracy: 1.0000 - val_loss: 0.5002 - val_accuracy: 0.9070\n",
      "Epoch 17/50\n",
      "4/4 [==============================] - 1s 258ms/step - loss: 0.1105 - accuracy: 1.0000 - val_loss: 0.4830 - val_accuracy: 0.9070\n",
      "Epoch 18/50\n",
      "4/4 [==============================] - 1s 265ms/step - loss: 0.1014 - accuracy: 1.0000 - val_loss: 0.4736 - val_accuracy: 0.9070\n",
      "Epoch 19/50\n",
      "4/4 [==============================] - 1s 261ms/step - loss: 0.0935 - accuracy: 1.0000 - val_loss: 0.4760 - val_accuracy: 0.9070\n",
      "Epoch 20/50\n",
      "4/4 [==============================] - 1s 267ms/step - loss: 0.0884 - accuracy: 1.0000 - val_loss: 0.4770 - val_accuracy: 0.9070\n",
      "Epoch 21/50\n",
      "4/4 [==============================] - 1s 246ms/step - loss: 0.0823 - accuracy: 1.0000 - val_loss: 0.4728 - val_accuracy: 0.9070\n",
      "Epoch 22/50\n",
      "4/4 [==============================] - 1s 245ms/step - loss: 0.0774 - accuracy: 1.0000 - val_loss: 0.4684 - val_accuracy: 0.9070\n",
      "Epoch 23/50\n",
      "4/4 [==============================] - 1s 246ms/step - loss: 0.0722 - accuracy: 1.0000 - val_loss: 0.4652 - val_accuracy: 0.9070\n",
      "Epoch 24/50\n",
      "4/4 [==============================] - 1s 243ms/step - loss: 0.0690 - accuracy: 1.0000 - val_loss: 0.4611 - val_accuracy: 0.9070\n",
      "Epoch 25/50\n",
      "4/4 [==============================] - 1s 244ms/step - loss: 0.0650 - accuracy: 1.0000 - val_loss: 0.4569 - val_accuracy: 0.9070\n",
      "Epoch 26/50\n",
      "4/4 [==============================] - 1s 243ms/step - loss: 0.0617 - accuracy: 1.0000 - val_loss: 0.4540 - val_accuracy: 0.9070\n",
      "Epoch 27/50\n",
      "4/4 [==============================] - 1s 256ms/step - loss: 0.0599 - accuracy: 1.0000 - val_loss: 0.4536 - val_accuracy: 0.9070\n",
      "Epoch 28/50\n",
      "4/4 [==============================] - 1s 289ms/step - loss: 0.0568 - accuracy: 1.0000 - val_loss: 0.4545 - val_accuracy: 0.9070\n",
      "Epoch 29/50\n",
      "4/4 [==============================] - 1s 247ms/step - loss: 0.0534 - accuracy: 1.0000 - val_loss: 0.4551 - val_accuracy: 0.9070\n",
      "Epoch 30/50\n",
      "4/4 [==============================] - 1s 251ms/step - loss: 0.0512 - accuracy: 1.0000 - val_loss: 0.4577 - val_accuracy: 0.9070\n",
      "Epoch 31/50\n",
      "4/4 [==============================] - 1s 254ms/step - loss: 0.0504 - accuracy: 1.0000 - val_loss: 0.4593 - val_accuracy: 0.9070\n",
      "Epoch 32/50\n",
      "4/4 [==============================] - 1s 254ms/step - loss: 0.0493 - accuracy: 1.0000 - val_loss: 0.4582 - val_accuracy: 0.9070\n",
      "Epoch 33/50\n",
      "4/4 [==============================] - 1s 248ms/step - loss: 0.0452 - accuracy: 1.0000 - val_loss: 0.4526 - val_accuracy: 0.9070\n",
      "Epoch 34/50\n",
      "4/4 [==============================] - 1s 248ms/step - loss: 0.0439 - accuracy: 1.0000 - val_loss: 0.4501 - val_accuracy: 0.9070\n",
      "Epoch 35/50\n",
      "4/4 [==============================] - 1s 243ms/step - loss: 0.0430 - accuracy: 1.0000 - val_loss: 0.4496 - val_accuracy: 0.9070\n",
      "Epoch 36/50\n",
      "4/4 [==============================] - 1s 247ms/step - loss: 0.0417 - accuracy: 1.0000 - val_loss: 0.4486 - val_accuracy: 0.9070\n",
      "Epoch 37/50\n",
      "4/4 [==============================] - 1s 246ms/step - loss: 0.0402 - accuracy: 1.0000 - val_loss: 0.4473 - val_accuracy: 0.9070\n",
      "Epoch 38/50\n",
      "4/4 [==============================] - 1s 244ms/step - loss: 0.0396 - accuracy: 1.0000 - val_loss: 0.4462 - val_accuracy: 0.9070\n",
      "Epoch 39/50\n",
      "4/4 [==============================] - 1s 252ms/step - loss: 0.0376 - accuracy: 1.0000 - val_loss: 0.4442 - val_accuracy: 0.9070\n",
      "Epoch 40/50\n",
      "4/4 [==============================] - 1s 250ms/step - loss: 0.0358 - accuracy: 1.0000 - val_loss: 0.4442 - val_accuracy: 0.9070\n",
      "Epoch 41/50\n",
      "4/4 [==============================] - 1s 258ms/step - loss: 0.0354 - accuracy: 1.0000 - val_loss: 0.4444 - val_accuracy: 0.9070\n",
      "Epoch 42/50\n",
      "4/4 [==============================] - 1s 261ms/step - loss: 0.0343 - accuracy: 1.0000 - val_loss: 0.4450 - val_accuracy: 0.9070\n",
      "Epoch 43/50\n",
      "4/4 [==============================] - 1s 261ms/step - loss: 0.0336 - accuracy: 1.0000 - val_loss: 0.4469 - val_accuracy: 0.9070\n",
      "Epoch 44/50\n",
      "4/4 [==============================] - 1s 262ms/step - loss: 0.0319 - accuracy: 1.0000 - val_loss: 0.4479 - val_accuracy: 0.9070\n",
      "Epoch 45/50\n",
      "4/4 [==============================] - 1s 263ms/step - loss: 0.0321 - accuracy: 1.0000 - val_loss: 0.4462 - val_accuracy: 0.9070\n",
      "Epoch 46/50\n",
      "4/4 [==============================] - 1s 264ms/step - loss: 0.0301 - accuracy: 1.0000 - val_loss: 0.4443 - val_accuracy: 0.9070\n",
      "Epoch 47/50\n",
      "4/4 [==============================] - 1s 267ms/step - loss: 0.0298 - accuracy: 1.0000 - val_loss: 0.4440 - val_accuracy: 0.9070\n",
      "Epoch 48/50\n",
      "4/4 [==============================] - 1s 266ms/step - loss: 0.0291 - accuracy: 1.0000 - val_loss: 0.4433 - val_accuracy: 0.9070\n",
      "Epoch 49/50\n",
      "4/4 [==============================] - 1s 262ms/step - loss: 0.0283 - accuracy: 1.0000 - val_loss: 0.4436 - val_accuracy: 0.9070\n",
      "Epoch 50/50\n",
      "4/4 [==============================] - 1s 256ms/step - loss: 0.0277 - accuracy: 1.0000 - val_loss: 0.4435 - val_accuracy: 0.9070\n",
      "CPU times: total: 1min 13s\n",
      "Wall time: 1min 8s\n"
     ]
    }
   ],
   "source": [
    "%%time\n",
    "bert_history = bert_model.fit(train_encoded, epochs=EPOCHS, batch_size=BATCH_SIZE, validation_data=val_encoded)"
   ]
  },
  {
   "cell_type": "code",
   "execution_count": 28,
   "metadata": {},
   "outputs": [],
   "source": [
    "# Buat fungsi untuk plotting hasil training\n",
    "def plot_graphs(history, string):\n",
    "  plt.plot(history.history[string])\n",
    "  plt.plot(history.history['val_'+string])\n",
    "  plt.xlabel('Epochs')\n",
    "  plt.ylabel(string)\n",
    "  plt.legend([string, 'val_'+string])\n",
    "  plt.show()"
   ]
  },
  {
   "cell_type": "code",
   "execution_count": 25,
   "metadata": {},
   "outputs": [
    {
     "data": {
      "image/png": "[encoded data removed]",
      "text/plain": [
       "<Figure size 640x480 with 1 Axes>"
      ]
     },
     "metadata": {},
     "output_type": "display_data"
    },
    {
     "data": {
      "image/png": "[encoded data removed]",
      "text/plain": [
       "<Figure size 640x480 with 1 Axes>"
      ]
     },
     "metadata": {},
     "output_type": "display_data"
    }
   ],
   "source": [
    "plot_graphs(bert_history, 'accuracy')\n",
    "plot_graphs(bert_history, 'loss')"
   ]
  },
  {
   "cell_type": "code",
   "execution_count": 29,
   "metadata": {},
   "outputs": [],
   "source": [
    "bert_model.save_weights('Model/bert-wardas.h5')"
   ]
  },
  {
   "cell_type": "code",
   "execution_count": 27,
   "metadata": {},
   "outputs": [
    {
     "name": "stdout",
     "output_type": "stream",
     "text": [
      "1/1 [==============================] - 0s 91ms/step - loss: 0.3365 - accuracy: 0.9167\n",
      "Test Accuracy: 0.9166666865348816\n"
     ]
    }
   ],
   "source": [
    "score = bert_model.evaluate(test_encoded)\n",
    "\n",
    "print(\"Test Accuracy:\", score[1])"
   ]
  }
 ],
 "metadata": {
  "kernelspec": {
   "display_name": "Python 3.9.6 64-bit",
   "language": "python",
   "name": "python3"
  },
  "language_info": {
   "codemirror_mode": {
    "name": "ipython",
    "version": 3
   },
   "file_extension": ".py",
   "mimetype": "text/x-python",
   "name": "python",
   "nbconvert_exporter": "python",
   "pygments_lexer": "ipython3",
   "version": "3.9.6"
  },
  "orig_nbformat": 4,
  "vscode": {
   "interpreter": {
    "hash": "9bb2665b6143e7d2b1179771d9cc5a88bd139c21d8991d9a3851b853d0d9eb90"
   }
  }
 },
 "nbformat": 4,
 "nbformat_minor": 2
}
