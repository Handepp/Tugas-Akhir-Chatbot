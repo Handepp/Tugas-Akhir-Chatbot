{
 "cells": [
  {
   "attachments": {},
   "cell_type": "markdown",
   "metadata": {},
   "source": [
    "# Wahana Cerdas Chatbot"
   ]
  },
  {
   "attachments": {},
   "cell_type": "markdown",
   "metadata": {},
   "source": [
    "### Install Library"
   ]
  },
  {
   "cell_type": "code",
   "execution_count": 15,
   "metadata": {},
   "outputs": [
    {
     "data": {
      "text/plain": [
       "\"# Package sentence tokenizer\\nnltk.download('punkt') \\n# Package lemmatization\\nnltk.download('wordnet')\\n# Package multilingual wordnet data\\nnltk.download('omw-1.4')\""
      ]
     },
     "execution_count": 15,
     "metadata": {},
     "output_type": "execute_result"
    }
   ],
   "source": [
    "import random\n",
    "import numpy as np \n",
    "import pandas as pd \n",
    "\n",
    "import matplotlib.pyplot as plt\n",
    "import seaborn as sns\n",
    "import json\n",
    "import nltk\n",
    "import time\n",
    "import re\n",
    "import swifter\n",
    "\n",
    "from sklearn.model_selection import train_test_split\n",
    "from sklearn.preprocessing import LabelEncoder\n",
    "import tensorflow as tf\n",
    "import transformers\n",
    "from transformers import BertTokenizer\n",
    "from transformers import TFBertForSequenceClassification\n",
    "\n",
    "from nltk.stem import WordNetLemmatizer\n",
    "from tensorflow.keras.models import Model\n",
    "from tensorflow.keras.preprocessing.text import Tokenizer\n",
    "from tensorflow.keras.layers import Input, Embedding, LSTM\n",
    "from tensorflow.keras.preprocessing.sequence import pad_sequences\n",
    "from tensorflow.keras.layers import Flatten, Dense, GlobalMaxPool1D\n",
    "\n",
    "from urllib import request\n",
    "\n",
    "import warnings\n",
    "warnings.filterwarnings(\"ignore\")\n",
    "\n",
    "'''# Package sentence tokenizer\n",
    "nltk.download('punkt') \n",
    "# Package lemmatization\n",
    "nltk.download('wordnet')\n",
    "# Package multilingual wordnet data\n",
    "nltk.download('omw-1.4')'''"
   ]
  },
  {
   "attachments": {},
   "cell_type": "markdown",
   "metadata": {},
   "source": [
    "### Data Acquisition"
   ]
  },
  {
   "cell_type": "code",
   "execution_count": 2,
   "metadata": {},
   "outputs": [
    {
     "data": {
      "text/plain": [
       "('Data%20Wahana.json', <http.client.HTTPMessage at 0x20690938e20>)"
      ]
     },
     "execution_count": 2,
     "metadata": {},
     "output_type": "execute_result"
    }
   ],
   "source": [
    "url = \"https://raw.githubusercontent.com/Handepp/Tugas-Akhir-Chatbot/main/Dataset/Data%20Wahana.json\"\n",
    "request.urlretrieve(url, \"Data%20Wahana.json\")"
   ]
  },
  {
   "cell_type": "code",
   "execution_count": 3,
   "metadata": {},
   "outputs": [],
   "source": [
    "# Importing the dataset\n",
    "with open('Data%20Wahana.json') as content:\n",
    "  data1 = json.load(content)\n",
    "\n",
    "# Mendapatkan semua data ke dalam list\n",
    "tags = [] # data tag\n",
    "inputs = [] # data input atau pattern\n",
    "responses = {} # data respon\n",
    "words = [] # Data kata \n",
    "classes = [] # Data Kelas atau Tag\n",
    "documents = [] # Data Kalimat Dokumen\n",
    "ignore_words = ['?', '!'] # Mengabaikan tanda spesial karakter\n",
    "\n",
    "for intent in data1['intents']:\n",
    "  responses[intent['tag']]=intent['responses']\n",
    "  for lines in intent['patterns']:\n",
    "    inputs.append(lines)\n",
    "    tags.append(intent['tag'])\n",
    "    for pattern in intent['patterns']:\n",
    "      w = nltk.word_tokenize(pattern)\n",
    "      words.extend(w)\n",
    "      documents.append((w, intent['tag']))\n",
    "      # add to our classes list\n",
    "      if intent['tag'] not in classes:\n",
    "        classes.append(intent['tag'])\n",
    "\n",
    "# Konversi data json ke dalam dataframe\n",
    "data = pd.DataFrame({\"patterns\":inputs, \"tags\":tags})"
   ]
  },
  {
   "cell_type": "code",
   "execution_count": 4,
   "metadata": {},
   "outputs": [
    {
     "data": {
      "text/html": [
       "<div>\n",
       "<style scoped>\n",
       "    .dataframe tbody tr th:only-of-type {\n",
       "        vertical-align: middle;\n",
       "    }\n",
       "\n",
       "    .dataframe tbody tr th {\n",
       "        vertical-align: top;\n",
       "    }\n",
       "\n",
       "    .dataframe thead th {\n",
       "        text-align: right;\n",
       "    }\n",
       "</style>\n",
       "<table border=\"1\" class=\"dataframe\">\n",
       "  <thead>\n",
       "    <tr style=\"text-align: right;\">\n",
       "      <th></th>\n",
       "      <th>patterns</th>\n",
       "      <th>tags</th>\n",
       "    </tr>\n",
       "  </thead>\n",
       "  <tbody>\n",
       "    <tr>\n",
       "      <th>0</th>\n",
       "      <td>Siapa kamu?</td>\n",
       "      <td>Wardas.siapa</td>\n",
       "    </tr>\n",
       "    <tr>\n",
       "      <th>1</th>\n",
       "      <td>Kamu siapa?</td>\n",
       "      <td>Wardas.siapa</td>\n",
       "    </tr>\n",
       "    <tr>\n",
       "      <th>2</th>\n",
       "      <td>Ini apa?</td>\n",
       "      <td>Wardas.siapa</td>\n",
       "    </tr>\n",
       "    <tr>\n",
       "      <th>3</th>\n",
       "      <td>Kamu apa?</td>\n",
       "      <td>Wardas.siapa</td>\n",
       "    </tr>\n",
       "    <tr>\n",
       "      <th>4</th>\n",
       "      <td>Robot apakah kamu?</td>\n",
       "      <td>Wardas.siapa</td>\n",
       "    </tr>\n",
       "    <tr>\n",
       "      <th>...</th>\n",
       "      <td>...</td>\n",
       "      <td>...</td>\n",
       "    </tr>\n",
       "    <tr>\n",
       "      <th>179</th>\n",
       "      <td>cepatkan kecepatanmu</td>\n",
       "      <td>wardas.fast</td>\n",
       "    </tr>\n",
       "    <tr>\n",
       "      <th>180</th>\n",
       "      <td>Menjadi cepatlah</td>\n",
       "      <td>wardas.fast</td>\n",
       "    </tr>\n",
       "    <tr>\n",
       "      <th>181</th>\n",
       "      <td>cepat saja</td>\n",
       "      <td>wardas.fast</td>\n",
       "    </tr>\n",
       "    <tr>\n",
       "      <th>182</th>\n",
       "      <td>Kecepatan cepat</td>\n",
       "      <td>wardas.fast</td>\n",
       "    </tr>\n",
       "    <tr>\n",
       "      <th>183</th>\n",
       "      <td>Berubah menjadi cepat</td>\n",
       "      <td>wardas.fast</td>\n",
       "    </tr>\n",
       "  </tbody>\n",
       "</table>\n",
       "<p>184 rows × 2 columns</p>\n",
       "</div>"
      ],
      "text/plain": [
       "                  patterns          tags\n",
       "0              Siapa kamu?  Wardas.siapa\n",
       "1              Kamu siapa?  Wardas.siapa\n",
       "2                 Ini apa?  Wardas.siapa\n",
       "3                Kamu apa?  Wardas.siapa\n",
       "4       Robot apakah kamu?  Wardas.siapa\n",
       "..                     ...           ...\n",
       "179   cepatkan kecepatanmu   wardas.fast\n",
       "180       Menjadi cepatlah   wardas.fast\n",
       "181             cepat saja   wardas.fast\n",
       "182        Kecepatan cepat   wardas.fast\n",
       "183  Berubah menjadi cepat   wardas.fast\n",
       "\n",
       "[184 rows x 2 columns]"
      ]
     },
     "execution_count": 4,
     "metadata": {},
     "output_type": "execute_result"
    }
   ],
   "source": [
    "# Cetak data keseluruhan\n",
    "data "
   ]
  },
  {
   "cell_type": "code",
   "execution_count": 5,
   "metadata": {},
   "outputs": [
    {
     "data": {
      "text/plain": [
       "Wardas.siapa          15\n",
       "wardas.buruk          11\n",
       "wardas.usia           10\n",
       "wardas.hari            8\n",
       "wardas.terimakasih     7\n",
       "wardas.lokasi          7\n",
       "wardas.tanggal         7\n",
       "wardas.insaf           7\n",
       "wardas.jam             6\n",
       "wardas.sapa            6\n",
       "wardas.siap            5\n",
       "wardas.bantu           5\n",
       "wardas.berpisah        5\n",
       "wardas.bos             5\n",
       "wardas.hump            5\n",
       "wardas.suhu            5\n",
       "wardas.baik            5\n",
       "wardas.asal            5\n",
       "wardas.malam           5\n",
       "wardas.sore            5\n",
       "wardas.pagi            5\n",
       "wardas.hobby           5\n",
       "wardas.ngobrol         5\n",
       "wardas.benar           5\n",
       "wardas.siang           5\n",
       "Name: tags, dtype: int64"
      ]
     },
     "execution_count": 5,
     "metadata": {},
     "output_type": "execute_result"
    }
   ],
   "source": [
    "data.tags.value_counts()"
   ]
  },
  {
   "cell_type": "code",
   "execution_count": 5,
   "metadata": {},
   "outputs": [
    {
     "name": "stdout",
     "output_type": "stream",
     "text": [
      "29 classes ['Wardas.siapa', 'wardas.asal', 'wardas.baik', 'wardas.bantu', 'wardas.beban', 'wardas.benar', 'wardas.berpisah', 'wardas.bos', 'wardas.buruk', 'wardas.fast', 'wardas.hari', 'wardas.hobby', 'wardas.hump', 'wardas.insaf', 'wardas.jam', 'wardas.lokasi', 'wardas.malam', 'wardas.medium', 'wardas.ngobrol', 'wardas.pagi', 'wardas.sapa', 'wardas.siang', 'wardas.siap', 'wardas.slow', 'wardas.sore', 'wardas.suhu', 'wardas.tanggal', 'wardas.terimakasih', 'wardas.usia']\n"
     ]
    }
   ],
   "source": [
    "# sort classes\n",
    "classes = sorted(list(set(classes)))\n",
    "print (len(classes), \"classes\", classes)"
   ]
  },
  {
   "attachments": {},
   "cell_type": "markdown",
   "metadata": {},
   "source": [
    "### Preprocessing"
   ]
  },
  {
   "cell_type": "code",
   "execution_count": 6,
   "metadata": {},
   "outputs": [],
   "source": [
    "def casefolding(text):\n",
    "  text = text.lower()                               # Mengubah teks menjadi lower case\n",
    "  text = re.sub(r'https?://\\S+|www\\.\\S+', '', text) # Menghapus URL\n",
    "  #text = re.sub(r'[-+]?[0-9]+', '', text)           # Menghapus angka\n",
    "  text = re.sub(r'[^\\w\\s]','', text)                # Menghapus karakter tanda baca\n",
    "  text = text.strip()                               # Menghapus whitespaces\n",
    "  return text"
   ]
  },
  {
   "cell_type": "code",
   "execution_count": 7,
   "metadata": {},
   "outputs": [
    {
     "name": "stdout",
     "output_type": "stream",
     "text": [
      "   _id      singkat       hasil\n",
      "0    1         abis       habis\n",
      "1    2       accent     tekanan\n",
      "2    3       accept      terima\n",
      "3    4     accident  kecelakaan\n",
      "4    5  achievement    prestasi\n"
     ]
    }
   ],
   "source": [
    "key= \"https://raw.githubusercontent.com/ksnugroho/klasifikasi-spam-sms/master/data/key_norm.csv\"\n",
    "request.urlretrieve(key, \"key_norm.csv\")\n",
    "key_norm = pd.read_csv('key_norm.csv')\n",
    "print(key_norm.head())"
   ]
  },
  {
   "cell_type": "code",
   "execution_count": 8,
   "metadata": {},
   "outputs": [],
   "source": [
    "def text_normalize(text):\n",
    "  text = ' '.join([key_norm[key_norm['singkat'] == word]['hasil'].values[0] if (key_norm['singkat'] == word).any() else word for word in text.split()])\n",
    "  text = str.lower(text)\n",
    "  return text"
   ]
  },
  {
   "cell_type": "code",
   "execution_count": 9,
   "metadata": {},
   "outputs": [],
   "source": [
    "from Sastrawi.Stemmer.StemmerFactory import StemmerFactory\n",
    "\n",
    "factory = StemmerFactory()\n",
    "stemmer = factory.create_stemmer()\n",
    "\n",
    "# Buat fungsi untuk langkah stemming bahasa Indonesia\n",
    "def stemming(text):\n",
    "  text = stemmer.stem(text)\n",
    "  return text"
   ]
  },
  {
   "cell_type": "code",
   "execution_count": 10,
   "metadata": {},
   "outputs": [],
   "source": [
    "def text_preprocessing_process(text):\n",
    "  text = casefolding(text)\n",
    "  text = text_normalize(text)\n",
    "  text = stemming(text)\n",
    "  return text"
   ]
  },
  {
   "cell_type": "code",
   "execution_count": 11,
   "metadata": {},
   "outputs": [
    {
     "data": {
      "application/vnd.jupyter.widget-view+json": {
       "model_id": "279eaeea3b4a4158986a6a3ba191001e",
       "version_major": 2,
       "version_minor": 0
      },
      "text/plain": [
       "Pandas Apply:   0%|          | 0/184 [00:00<?, ?it/s]"
      ]
     },
     "metadata": {},
     "output_type": "display_data"
    },
    {
     "name": "stdout",
     "output_type": "stream",
     "text": [
      "CPU times: total: 7.02 s\n",
      "Wall time: 7.31 s\n"
     ]
    }
   ],
   "source": [
    "%%time\n",
    "data['patterns'] = data['patterns'].swifter.apply(text_preprocessing_process)"
   ]
  },
  {
   "cell_type": "code",
   "execution_count": 12,
   "metadata": {},
   "outputs": [
    {
     "data": {
      "text/html": [
       "<div>\n",
       "<style scoped>\n",
       "    .dataframe tbody tr th:only-of-type {\n",
       "        vertical-align: middle;\n",
       "    }\n",
       "\n",
       "    .dataframe tbody tr th {\n",
       "        vertical-align: top;\n",
       "    }\n",
       "\n",
       "    .dataframe thead th {\n",
       "        text-align: right;\n",
       "    }\n",
       "</style>\n",
       "<table border=\"1\" class=\"dataframe\">\n",
       "  <thead>\n",
       "    <tr style=\"text-align: right;\">\n",
       "      <th></th>\n",
       "      <th>patterns</th>\n",
       "      <th>tags</th>\n",
       "    </tr>\n",
       "  </thead>\n",
       "  <tbody>\n",
       "    <tr>\n",
       "      <th>0</th>\n",
       "      <td>siapa kamu</td>\n",
       "      <td>Wardas.siapa</td>\n",
       "    </tr>\n",
       "    <tr>\n",
       "      <th>1</th>\n",
       "      <td>kamu siapa</td>\n",
       "      <td>Wardas.siapa</td>\n",
       "    </tr>\n",
       "    <tr>\n",
       "      <th>2</th>\n",
       "      <td>ini apa</td>\n",
       "      <td>Wardas.siapa</td>\n",
       "    </tr>\n",
       "    <tr>\n",
       "      <th>3</th>\n",
       "      <td>kamu apa</td>\n",
       "      <td>Wardas.siapa</td>\n",
       "    </tr>\n",
       "    <tr>\n",
       "      <th>4</th>\n",
       "      <td>robot apakah kamu</td>\n",
       "      <td>Wardas.siapa</td>\n",
       "    </tr>\n",
       "    <tr>\n",
       "      <th>...</th>\n",
       "      <td>...</td>\n",
       "      <td>...</td>\n",
       "    </tr>\n",
       "    <tr>\n",
       "      <th>179</th>\n",
       "      <td>cepat cepat</td>\n",
       "      <td>wardas.fast</td>\n",
       "    </tr>\n",
       "    <tr>\n",
       "      <th>180</th>\n",
       "      <td>jadi cepat</td>\n",
       "      <td>wardas.fast</td>\n",
       "    </tr>\n",
       "    <tr>\n",
       "      <th>181</th>\n",
       "      <td>cepat saja</td>\n",
       "      <td>wardas.fast</td>\n",
       "    </tr>\n",
       "    <tr>\n",
       "      <th>182</th>\n",
       "      <td>cepat cepat</td>\n",
       "      <td>wardas.fast</td>\n",
       "    </tr>\n",
       "    <tr>\n",
       "      <th>183</th>\n",
       "      <td>ubah jadi cepat</td>\n",
       "      <td>wardas.fast</td>\n",
       "    </tr>\n",
       "  </tbody>\n",
       "</table>\n",
       "<p>184 rows × 2 columns</p>\n",
       "</div>"
      ],
      "text/plain": [
       "              patterns          tags\n",
       "0           siapa kamu  Wardas.siapa\n",
       "1           kamu siapa  Wardas.siapa\n",
       "2              ini apa  Wardas.siapa\n",
       "3             kamu apa  Wardas.siapa\n",
       "4    robot apakah kamu  Wardas.siapa\n",
       "..                 ...           ...\n",
       "179        cepat cepat   wardas.fast\n",
       "180         jadi cepat   wardas.fast\n",
       "181         cepat saja   wardas.fast\n",
       "182        cepat cepat   wardas.fast\n",
       "183    ubah jadi cepat   wardas.fast\n",
       "\n",
       "[184 rows x 2 columns]"
      ]
     },
     "execution_count": 12,
     "metadata": {},
     "output_type": "execute_result"
    }
   ],
   "source": [
    "data"
   ]
  },
  {
   "attachments": {},
   "cell_type": "markdown",
   "metadata": {},
   "source": [
    "## BERT"
   ]
  },
  {
   "cell_type": "code",
   "execution_count": 13,
   "metadata": {},
   "outputs": [],
   "source": [
    "labelencoder = LabelEncoder()\n",
    "data['tags'] = labelencoder.fit_transform(data['tags'])"
   ]
  },
  {
   "cell_type": "code",
   "execution_count": 14,
   "metadata": {},
   "outputs": [
    {
     "data": {
      "text/plain": [
       "((103, 2), (20, 2), (36, 2))"
      ]
     },
     "execution_count": 14,
     "metadata": {},
     "output_type": "execute_result"
    }
   ],
   "source": [
    "df_train, df_test = train_test_split(data, test_size=0.35)\n",
    "df_val, df_test = train_test_split(df_test, test_size=0.35)\n",
    "\n",
    "df_train.shape, df_test.shape, df_val.shape"
   ]
  },
  {
   "cell_type": "code",
   "execution_count": 15,
   "metadata": {},
   "outputs": [],
   "source": [
    "# Tentukan pre-trained model yang akan digunakan untuk fine-tuning\n",
    "# Daftar model dapat ditemukan pada https://huggingface.co\n",
    "\n",
    "PRE_TRAINED_MODEL = 'indobenchmark/indobert-base-p2'  # https://huggingface.co/indobenchmark/indobert-base-p2\n",
    "bert_tokenizer = BertTokenizer.from_pretrained(PRE_TRAINED_MODEL)  # Load tokenizer dari pre-trained model\n",
    "vocabulary = bert_tokenizer.get_vocab()"
   ]
  },
  {
   "cell_type": "code",
   "execution_count": 16,
   "metadata": {},
   "outputs": [
    {
     "data": {
      "image/png": "[encoded data removed]",
      "text/plain": [
       "<Figure size 640x480 with 1 Axes>"
      ]
     },
     "metadata": {},
     "output_type": "display_data"
    }
   ],
   "source": [
    "token_lens = []\n",
    "\n",
    "for txt in data.patterns:\n",
    "  tokens = bert_tokenizer.encode(txt)\n",
    "  token_lens.append(len(tokens))\n",
    "\n",
    "sns.histplot(token_lens, kde=True, stat='density', linewidth=0)\n",
    "plt.xlim([0, 15]);\n",
    "plt.xlabel('Token count');"
   ]
  },
  {
   "cell_type": "code",
   "execution_count": 17,
   "metadata": {},
   "outputs": [],
   "source": [
    "MAX_LEN = 15"
   ]
  },
  {
   "cell_type": "code",
   "execution_count": 18,
   "metadata": {},
   "outputs": [],
   "source": [
    "def convert_example_to_feature(sentence):  \n",
    "  return bert_tokenizer.encode_plus(\n",
    "      sentence, \n",
    "      add_special_tokens = True, \n",
    "      padding = 'max_length',\n",
    "      truncation = 'longest_first',\n",
    "      max_length = MAX_LEN, \n",
    "      return_attention_mask = True, \n",
    "      return_token_type_ids=True\n",
    "    )\n",
    "\n",
    "def map_example_to_dict(input_ids, attention_masks, token_type_ids, label):\n",
    "  return {\n",
    "      \"input_ids\": input_ids,               # Sebagai token embedding\n",
    "      \"token_type_ids\": token_type_ids,     # Sebagai segment embedding\n",
    "      \"attention_mask\": attention_masks,    # Sebagai filter informasi mana yang kalkulasi oleh model\n",
    "  }, label\n",
    "\n",
    "# Buat fungsi untuk iterasi pada setiap kalimat pada keseluruhan data\n",
    "def encode(data):\n",
    "  input_ids_list = []\n",
    "  token_type_ids_list = []\n",
    "  attention_mask_list = []\n",
    "  label_list = []\n",
    "    \n",
    "  for sentence, label in data.to_numpy():\n",
    "\n",
    "    bert_input = convert_example_to_feature(sentence)\n",
    "  \n",
    "    input_ids_list.append(bert_input['input_ids'])\n",
    "    token_type_ids_list.append(bert_input['token_type_ids'])\n",
    "    attention_mask_list.append(bert_input['attention_mask'])\n",
    "    label_list.append([label])\n",
    "\n",
    "  return tf.data.Dataset.from_tensor_slices((input_ids_list, attention_mask_list, token_type_ids_list, label_list)).map(map_example_to_dict)"
   ]
  },
  {
   "cell_type": "code",
   "execution_count": 19,
   "metadata": {},
   "outputs": [],
   "source": [
    "EPOCHS = 50\n",
    "BATCH_SIZE = 64\n",
    "LEARNING_RATE = 5e-5"
   ]
  },
  {
   "cell_type": "code",
   "execution_count": 20,
   "metadata": {},
   "outputs": [],
   "source": [
    "# Lakukan input formatting menggunakan fungsi sebelumnya pada data keseluruhan data\n",
    "train_encoded = encode(df_train).batch(BATCH_SIZE)\n",
    "test_encoded = encode(df_test).batch(BATCH_SIZE)\n",
    "val_encoded = encode(df_val).batch(BATCH_SIZE)"
   ]
  },
  {
   "cell_type": "code",
   "execution_count": 21,
   "metadata": {},
   "outputs": [
    {
     "name": "stderr",
     "output_type": "stream",
     "text": [
      "All model checkpoint layers were used when initializing TFBertForSequenceClassification.\n",
      "\n",
      "Some layers of TFBertForSequenceClassification were not initialized from the model checkpoint at indobenchmark/indobert-base-p2 and are newly initialized: ['classifier']\n",
      "You should probably TRAIN this model on a down-stream task to be able to use it for predictions and inference.\n"
     ]
    }
   ],
   "source": [
    "bert_model = TFBertForSequenceClassification.from_pretrained(PRE_TRAINED_MODEL, num_labels=25)\n",
    "\n",
    "optimizer = tf.keras.optimizers.experimental.Adamax(learning_rate=LEARNING_RATE)\n",
    "\n",
    "# Karena tidak menggunakan one-hot vectors, sehingga loss function dapat menggunakan sparse categorical cross entropy\n",
    "loss = tf.keras.losses.SparseCategoricalCrossentropy(from_logits=True)\n",
    "metric = tf.keras.metrics.SparseCategoricalAccuracy('accuracy')\n",
    "\n",
    "# Compile model\n",
    "bert_model.compile(optimizer=optimizer, loss=loss, metrics=[metric])"
   ]
  },
  {
   "cell_type": "code",
   "execution_count": 22,
   "metadata": {},
   "outputs": [
    {
     "name": "stdout",
     "output_type": "stream",
     "text": [
      "Epoch 1/50\n",
      "2/2 [==============================] - 79s 13s/step - loss: 3.2142 - accuracy: 0.0583 - val_loss: 2.9517 - val_accuracy: 0.3611\n",
      "Epoch 2/50\n",
      "2/2 [==============================] - 14s 7s/step - loss: 2.8808 - accuracy: 0.4078 - val_loss: 2.7567 - val_accuracy: 0.5000\n",
      "Epoch 3/50\n",
      "2/2 [==============================] - 14s 6s/step - loss: 2.6110 - accuracy: 0.5631 - val_loss: 2.5617 - val_accuracy: 0.5833\n",
      "Epoch 4/50\n",
      "2/2 [==============================] - 14s 6s/step - loss: 2.3941 - accuracy: 0.6505 - val_loss: 2.3522 - val_accuracy: 0.6389\n",
      "Epoch 5/50\n",
      "2/2 [==============================] - 13s 6s/step - loss: 2.1474 - accuracy: 0.7476 - val_loss: 2.1751 - val_accuracy: 0.6667\n",
      "Epoch 6/50\n",
      "2/2 [==============================] - 15s 7s/step - loss: 1.9384 - accuracy: 0.7864 - val_loss: 2.0122 - val_accuracy: 0.6667\n",
      "Epoch 7/50\n",
      "2/2 [==============================] - 16s 8s/step - loss: 1.7188 - accuracy: 0.8350 - val_loss: 1.8460 - val_accuracy: 0.7222\n",
      "Epoch 8/50\n",
      "2/2 [==============================] - 17s 8s/step - loss: 1.5374 - accuracy: 0.9320 - val_loss: 1.6932 - val_accuracy: 0.8056\n",
      "Epoch 9/50\n",
      "2/2 [==============================] - 17s 8s/step - loss: 1.3818 - accuracy: 0.9709 - val_loss: 1.5519 - val_accuracy: 0.8611\n",
      "Epoch 10/50\n",
      "2/2 [==============================] - 17s 8s/step - loss: 1.2344 - accuracy: 0.9806 - val_loss: 1.4070 - val_accuracy: 0.8611\n",
      "Epoch 11/50\n",
      "2/2 [==============================] - 17s 8s/step - loss: 1.0850 - accuracy: 1.0000 - val_loss: 1.2718 - val_accuracy: 0.8889\n",
      "Epoch 12/50\n",
      "2/2 [==============================] - 17s 8s/step - loss: 0.9660 - accuracy: 1.0000 - val_loss: 1.1697 - val_accuracy: 0.8889\n",
      "Epoch 13/50\n",
      "2/2 [==============================] - 18s 9s/step - loss: 0.8605 - accuracy: 1.0000 - val_loss: 1.0891 - val_accuracy: 0.8889\n",
      "Epoch 14/50\n",
      "2/2 [==============================] - 24s 11s/step - loss: 0.7688 - accuracy: 1.0000 - val_loss: 1.0139 - val_accuracy: 0.8889\n",
      "Epoch 15/50\n",
      "2/2 [==============================] - 21s 9s/step - loss: 0.6969 - accuracy: 1.0000 - val_loss: 0.9363 - val_accuracy: 0.8889\n",
      "Epoch 16/50\n",
      "2/2 [==============================] - 18s 8s/step - loss: 0.6161 - accuracy: 1.0000 - val_loss: 0.8642 - val_accuracy: 0.8889\n",
      "Epoch 17/50\n",
      "2/2 [==============================] - 18s 8s/step - loss: 0.5532 - accuracy: 1.0000 - val_loss: 0.8021 - val_accuracy: 0.8889\n",
      "Epoch 18/50\n",
      "2/2 [==============================] - 17s 8s/step - loss: 0.4981 - accuracy: 1.0000 - val_loss: 0.7510 - val_accuracy: 0.8889\n",
      "Epoch 19/50\n",
      "2/2 [==============================] - 17s 8s/step - loss: 0.4478 - accuracy: 1.0000 - val_loss: 0.7054 - val_accuracy: 0.8889\n",
      "Epoch 20/50\n",
      "2/2 [==============================] - 17s 8s/step - loss: 0.3975 - accuracy: 1.0000 - val_loss: 0.6671 - val_accuracy: 0.8889\n",
      "Epoch 21/50\n",
      "2/2 [==============================] - 20s 9s/step - loss: 0.3643 - accuracy: 1.0000 - val_loss: 0.6363 - val_accuracy: 0.8889\n",
      "Epoch 22/50\n",
      "2/2 [==============================] - 26s 13s/step - loss: 0.3413 - accuracy: 1.0000 - val_loss: 0.6101 - val_accuracy: 0.8889\n",
      "Epoch 23/50\n",
      "2/2 [==============================] - 21s 9s/step - loss: 0.3200 - accuracy: 1.0000 - val_loss: 0.5872 - val_accuracy: 0.8889\n",
      "Epoch 24/50\n",
      "2/2 [==============================] - 20s 9s/step - loss: 0.2862 - accuracy: 1.0000 - val_loss: 0.5652 - val_accuracy: 0.8889\n",
      "Epoch 25/50\n",
      "2/2 [==============================] - 17s 8s/step - loss: 0.2697 - accuracy: 1.0000 - val_loss: 0.5427 - val_accuracy: 0.8889\n",
      "Epoch 26/50\n",
      "2/2 [==============================] - 18s 9s/step - loss: 0.2568 - accuracy: 1.0000 - val_loss: 0.5211 - val_accuracy: 0.8889\n",
      "Epoch 27/50\n",
      "2/2 [==============================] - 27s 10s/step - loss: 0.2374 - accuracy: 1.0000 - val_loss: 0.5019 - val_accuracy: 0.8889\n",
      "Epoch 28/50\n",
      "2/2 [==============================] - 23s 9s/step - loss: 0.2253 - accuracy: 1.0000 - val_loss: 0.4860 - val_accuracy: 0.8889\n",
      "Epoch 29/50\n",
      "2/2 [==============================] - 17s 8s/step - loss: 0.2100 - accuracy: 1.0000 - val_loss: 0.4724 - val_accuracy: 0.8889\n",
      "Epoch 30/50\n",
      "2/2 [==============================] - 16s 7s/step - loss: 0.2013 - accuracy: 1.0000 - val_loss: 0.4618 - val_accuracy: 0.8889\n",
      "Epoch 31/50\n",
      "2/2 [==============================] - 16s 8s/step - loss: 0.1924 - accuracy: 1.0000 - val_loss: 0.4532 - val_accuracy: 0.8889\n",
      "Epoch 32/50\n",
      "2/2 [==============================] - 17s 8s/step - loss: 0.1862 - accuracy: 1.0000 - val_loss: 0.4443 - val_accuracy: 0.8889\n",
      "Epoch 33/50\n",
      "2/2 [==============================] - 17s 8s/step - loss: 0.1739 - accuracy: 1.0000 - val_loss: 0.4355 - val_accuracy: 0.8889\n",
      "Epoch 34/50\n",
      "2/2 [==============================] - 17s 9s/step - loss: 0.1700 - accuracy: 1.0000 - val_loss: 0.4266 - val_accuracy: 0.8889\n",
      "Epoch 35/50\n",
      "2/2 [==============================] - 19s 9s/step - loss: 0.1619 - accuracy: 1.0000 - val_loss: 0.4181 - val_accuracy: 0.8889\n",
      "Epoch 36/50\n",
      "2/2 [==============================] - 20s 9s/step - loss: 0.1564 - accuracy: 1.0000 - val_loss: 0.4106 - val_accuracy: 0.8889\n",
      "Epoch 37/50\n",
      "2/2 [==============================] - 18s 8s/step - loss: 0.1498 - accuracy: 1.0000 - val_loss: 0.4039 - val_accuracy: 0.8889\n",
      "Epoch 38/50\n",
      "2/2 [==============================] - 16s 7s/step - loss: 0.1484 - accuracy: 1.0000 - val_loss: 0.3983 - val_accuracy: 0.8889\n",
      "Epoch 39/50\n",
      "2/2 [==============================] - 17s 8s/step - loss: 0.1429 - accuracy: 1.0000 - val_loss: 0.3946 - val_accuracy: 0.8889\n",
      "Epoch 40/50\n",
      "2/2 [==============================] - 23s 10s/step - loss: 0.1358 - accuracy: 1.0000 - val_loss: 0.3905 - val_accuracy: 0.8889\n",
      "Epoch 41/50\n",
      "2/2 [==============================] - 23s 10s/step - loss: 0.1332 - accuracy: 1.0000 - val_loss: 0.3863 - val_accuracy: 0.8889\n",
      "Epoch 42/50\n",
      "2/2 [==============================] - 20s 9s/step - loss: 0.1273 - accuracy: 1.0000 - val_loss: 0.3826 - val_accuracy: 0.8889\n",
      "Epoch 43/50\n",
      "2/2 [==============================] - 20s 10s/step - loss: 0.1255 - accuracy: 1.0000 - val_loss: 0.3789 - val_accuracy: 0.8889\n",
      "Epoch 44/50\n",
      "2/2 [==============================] - 22s 10s/step - loss: 0.1257 - accuracy: 1.0000 - val_loss: 0.3763 - val_accuracy: 0.8889\n",
      "Epoch 45/50\n",
      "2/2 [==============================] - 25s 12s/step - loss: 0.1202 - accuracy: 1.0000 - val_loss: 0.3744 - val_accuracy: 0.8889\n",
      "Epoch 46/50\n",
      "2/2 [==============================] - 22s 9s/step - loss: 0.1168 - accuracy: 1.0000 - val_loss: 0.3720 - val_accuracy: 0.8889\n",
      "Epoch 47/50\n",
      "2/2 [==============================] - 19s 9s/step - loss: 0.1151 - accuracy: 1.0000 - val_loss: 0.3689 - val_accuracy: 0.8889\n",
      "Epoch 48/50\n",
      "2/2 [==============================] - 18s 8s/step - loss: 0.1127 - accuracy: 1.0000 - val_loss: 0.3650 - val_accuracy: 0.8889\n",
      "Epoch 49/50\n",
      "2/2 [==============================] - 19s 9s/step - loss: 0.1115 - accuracy: 1.0000 - val_loss: 0.3611 - val_accuracy: 0.8889\n",
      "Epoch 50/50\n",
      "2/2 [==============================] - 18s 8s/step - loss: 0.1082 - accuracy: 1.0000 - val_loss: 0.3573 - val_accuracy: 0.8889\n",
      "CPU times: total: 1h 30min 53s\n",
      "Wall time: 17min 8s\n"
     ]
    }
   ],
   "source": [
    "%%time\n",
    "bert_history = bert_model.fit(train_encoded, epochs=EPOCHS, batch_size=BATCH_SIZE, validation_data=val_encoded)"
   ]
  },
  {
   "cell_type": "code",
   "execution_count": 23,
   "metadata": {},
   "outputs": [],
   "source": [
    "# Buat fungsi untuk plotting hasil training\n",
    "def plot_graphs(history, string):\n",
    "  plt.plot(history.history[string])\n",
    "  plt.plot(history.history['val_'+string])\n",
    "  plt.xlabel('Epochs')\n",
    "  plt.ylabel(string)\n",
    "  plt.legend([string, 'val_'+string])\n",
    "  plt.show()"
   ]
  },
  {
   "cell_type": "code",
   "execution_count": 24,
   "metadata": {},
   "outputs": [
    {
     "data": {
      "image/png": "[encoded data removed]",
      "text/plain": [
       "<Figure size 640x480 with 1 Axes>"
      ]
     },
     "metadata": {},
     "output_type": "display_data"
    },
    {
     "data": {
      "image/png": "[encoded data removed]",
      "text/plain": [
       "<Figure size 640x480 with 1 Axes>"
      ]
     },
     "metadata": {},
     "output_type": "display_data"
    }
   ],
   "source": [
    "plot_graphs(bert_history, 'accuracy')\n",
    "plot_graphs(bert_history, 'loss')"
   ]
  },
  {
   "cell_type": "code",
   "execution_count": 28,
   "metadata": {},
   "outputs": [],
   "source": [
    "bert_model.save_weights('Model/bert-wardas.h5')"
   ]
  },
  {
   "cell_type": "code",
   "execution_count": 29,
   "metadata": {},
   "outputs": [
    {
     "name": "stdout",
     "output_type": "stream",
     "text": [
      "1/1 [==============================] - 1s 717ms/step - loss: 0.6962 - accuracy: 0.7500\n",
      "Test Accuracy: 0.75\n"
     ]
    }
   ],
   "source": [
    "score = bert_model.evaluate(test_encoded)\n",
    "\n",
    "print(\"Test Accuracy:\", score[1])"
   ]
  },
  {
   "attachments": {},
   "cell_type": "markdown",
   "metadata": {},
   "source": [
    "## LSTM"
   ]
  },
  {
   "cell_type": "code",
   "execution_count": 22,
   "metadata": {},
   "outputs": [
    {
     "data": {
      "text/plain": [
       "[[18, 1],\n",
       " [1, 18],\n",
       " [2, 6],\n",
       " [1, 6],\n",
       " [9, 23, 1],\n",
       " [9, 6, 2],\n",
       " [6, 1, 2],\n",
       " [86, 9, 2, 41, 6],\n",
       " [1, 51, 41, 6],\n",
       " [1, 52, 6],\n",
       " [87, 42, 1],\n",
       " [3, 52, 41, 6],\n",
       " [60, 43, 61],\n",
       " [62, 43, 61],\n",
       " [44, 43, 42],\n",
       " [63],\n",
       " [4, 63],\n",
       " [24, 1, 45],\n",
       " [19, 7, 24, 1, 53],\n",
       " [88, 64],\n",
       " [64],\n",
       " [45, 24],\n",
       " [9, 2, 46, 24],\n",
       " [24, 1, 46],\n",
       " [24, 46],\n",
       " [9, 65],\n",
       " [1, 2, 65],\n",
       " [1, 31, 51],\n",
       " [1, 31, 11, 25, 66, 26, 7, 67],\n",
       " [1, 89, 68],\n",
       " [1, 2, 31, 11, 25, 12, 47],\n",
       " [90, 1, 25, 12, 32],\n",
       " [1, 2, 32],\n",
       " [91, 1, 2, 32],\n",
       " [1, 92, 12, 32],\n",
       " [1, 25, 12, 32],\n",
       " [69, 1, 8, 48, 70],\n",
       " [16, 42, 93, 48, 51],\n",
       " [94, 41, 8, 48, 70],\n",
       " [1, 71, 72],\n",
       " [95, 8, 48, 16],\n",
       " [69, 1, 11, 72, 12, 16, 54],\n",
       " [1, 71, 8, 68],\n",
       " [18, 96],\n",
       " [18, 26, 73],\n",
       " [74, 52, 18],\n",
       " [1, 73, 97, 18],\n",
       " [98, 18, 1],\n",
       " [3, 27, 7, 10],\n",
       " [99, 1, 27, 100],\n",
       " [27, 7, 10],\n",
       " [7, 55, 27],\n",
       " [27, 7, 3],\n",
       " [23, 1, 74, 33],\n",
       " [6, 33],\n",
       " [101, 12, 33],\n",
       " [62, 43, 33],\n",
       " [19, 7, 33],\n",
       " [23, 1, 49],\n",
       " [23, 9, 75, 49],\n",
       " [23, 1, 75, 49],\n",
       " [102],\n",
       " [49, 42],\n",
       " [103, 76],\n",
       " [1, 76, 104, 13],\n",
       " [13, 1, 46],\n",
       " [13, 1, 45],\n",
       " [9, 2, 45, 13],\n",
       " [1, 47],\n",
       " [1, 60, 26, 47],\n",
       " [1, 105, 106, 25, 66, 7],\n",
       " [1, 107],\n",
       " [1, 25, 12, 47],\n",
       " [56, 44, 12],\n",
       " [56, 108],\n",
       " [44, 12, 7],\n",
       " [56, 44],\n",
       " [109, 110],\n",
       " [34, 3],\n",
       " [111],\n",
       " [112],\n",
       " [113],\n",
       " [114, 3],\n",
       " [115, 3],\n",
       " [14, 35, 3],\n",
       " [35],\n",
       " [14, 35],\n",
       " [35, 3],\n",
       " [34, 35, 3],\n",
       " [14, 36, 3],\n",
       " [36],\n",
       " [14, 36],\n",
       " [36, 3],\n",
       " [34, 36, 3],\n",
       " [14, 37, 3],\n",
       " [37],\n",
       " [14, 37],\n",
       " [37, 3],\n",
       " [34, 37, 3],\n",
       " [14, 38, 3],\n",
       " [38],\n",
       " [14, 38],\n",
       " [38, 3],\n",
       " [34, 38, 3],\n",
       " [116, 16, 31, 77],\n",
       " [7, 16],\n",
       " [16, 16],\n",
       " [31, 53, 77],\n",
       " [117, 16],\n",
       " [1, 53, 13],\n",
       " [9, 1, 13],\n",
       " [13, 1],\n",
       " [118, 78, 1],\n",
       " [119, 78, 120],\n",
       " [121, 13],\n",
       " [54, 13, 1, 9],\n",
       " [4, 39, 28, 2],\n",
       " [39, 28, 2],\n",
       " [19, 39, 79, 28, 2],\n",
       " [39, 17, 2],\n",
       " [7, 55, 39, 17, 2],\n",
       " [4, 40, 28, 2],\n",
       " [40, 28, 2],\n",
       " [19, 40, 79, 28, 2],\n",
       " [40, 17, 2],\n",
       " [7, 55, 40, 17, 2],\n",
       " [57],\n",
       " [80, 81],\n",
       " [57, 3],\n",
       " [57],\n",
       " [122, 1],\n",
       " [123],\n",
       " [80, 81, 82, 124, 27],\n",
       " [14, 125],\n",
       " [126],\n",
       " [67, 127, 54],\n",
       " [128, 83, 129],\n",
       " [130, 83],\n",
       " [58, 4, 10],\n",
       " [19, 7, 84, 10],\n",
       " [131, 4, 10],\n",
       " [84, 17, 2],\n",
       " [58, 17, 2],\n",
       " [17, 2, 58, 4],\n",
       " [15, 6, 10],\n",
       " [15, 2, 15, 6],\n",
       " [15, 6],\n",
       " [10, 15, 6],\n",
       " [15, 2],\n",
       " [19, 15, 6, 2],\n",
       " [15, 23, 2],\n",
       " [],\n",
       " [20, 4, 10],\n",
       " [10, 20, 4],\n",
       " [19, 20, 4, 10],\n",
       " [20, 4],\n",
       " [20, 17, 2],\n",
       " [7, 132, 20, 15, 2],\n",
       " [20, 4, 2],\n",
       " [4, 21, 26, 11, 22, 9],\n",
       " [9, 2, 11, 22, 21, 85, 4],\n",
       " [11, 22, 21, 4],\n",
       " [133, 21, 26, 11, 22],\n",
       " [134, 85, 22, 4, 21],\n",
       " [135, 21, 26, 11, 22],\n",
       " [1, 11, 22, 4, 82, 21],\n",
       " [29, 5, 8, 30],\n",
       " [30, 5],\n",
       " [8, 30],\n",
       " [30, 59],\n",
       " [5, 30],\n",
       " [29, 8, 30],\n",
       " [29, 5, 8, 50],\n",
       " [136, 5],\n",
       " [8, 137],\n",
       " [50, 59],\n",
       " [5, 50],\n",
       " [29, 8, 50],\n",
       " [29, 5, 8, 5],\n",
       " [5, 5],\n",
       " [8, 5],\n",
       " [5, 59],\n",
       " [5, 5],\n",
       " [29, 8, 5]]"
      ]
     },
     "execution_count": 22,
     "metadata": {},
     "output_type": "execute_result"
    }
   ],
   "source": [
    "# Tokenize the data (Tokenisasi Data)\n",
    "tokenizer = Tokenizer(num_words=2000)\n",
    "tokenizer.fit_on_texts(data['patterns'])\n",
    "train = tokenizer.texts_to_sequences(data['patterns'])\n",
    "train"
   ]
  },
  {
   "cell_type": "code",
   "execution_count": 23,
   "metadata": {},
   "outputs": [
    {
     "name": "stdout",
     "output_type": "stream",
     "text": [
      "[[ 0  0  0 ...  0 18  1]\n",
      " [ 0  0  0 ...  0  1 18]\n",
      " [ 0  0  0 ...  0  2  6]\n",
      " ...\n",
      " [ 0  0  0 ...  0  5 59]\n",
      " [ 0  0  0 ...  0  5  5]\n",
      " [ 0  0  0 ... 29  8  5]]\n"
     ]
    }
   ],
   "source": [
    "# Apply padding \n",
    "x_train = pad_sequences(train)\n",
    "print(x_train) # Padding Sequences"
   ]
  },
  {
   "cell_type": "code",
   "execution_count": 24,
   "metadata": {},
   "outputs": [
    {
     "name": "stdout",
     "output_type": "stream",
     "text": [
      "[ 0  0  0  0  0  0  0  0  0  0  0  0  0  0  0 28 28 28 28 28 28 28 28 28\n",
      " 28  8  8  8  8  8  8  8  8  8  8  8 13 13 13 13 13 13 13  7  7  7  7  7\n",
      "  3  3  3  3  3 11 11 11 11 11 22 22 22 22 22  1  1  1  1  1  5  5  5  5\n",
      "  5 18 18 18 18 18 20 20 20 20 20 20 21 21 21 21 21 19 19 19 19 19 24 24\n",
      " 24 24 24 16 16 16 16 16  2  2  2  2  2 15 15 15 15 15 15 15 25 25 25 25\n",
      " 25 12 12 12 12 12 27 27 27 27 27 27 27  6  6  6  6  6 14 14 14 14 14 14\n",
      " 10 10 10 10 10 10 10 10 26 26 26 26 26 26 26  4  4  4  4  4  4  4 23 23\n",
      " 23 23 23 23 17 17 17 17 17 17  9  9  9  9  9  9]\n"
     ]
    }
   ],
   "source": [
    "# Encoding the outputs \n",
    "le = LabelEncoder()\n",
    "y_train = le.fit_transform(data['tags'])\n",
    "print(y_train) #Label Encodings"
   ]
  },
  {
   "cell_type": "code",
   "execution_count": null,
   "metadata": {},
   "outputs": [],
   "source": [
    "# input length\n",
    "input_shape = x_train.shape[1]\n",
    "print(input_shape)"
   ]
  },
  {
   "cell_type": "code",
   "execution_count": null,
   "metadata": {},
   "outputs": [],
   "source": [
    "df_train, df_test = train_test_split(data, test_size=0.35)\n",
    "df_val, df_test = train_test_split(df_test, test_size=0.35)\n",
    "\n",
    "df_train.shape, df_test.shape, df_val.shape"
   ]
  },
  {
   "cell_type": "code",
   "execution_count": null,
   "metadata": {},
   "outputs": [],
   "source": [
    "# define vocabulary\n",
    "vocabulary = len(tokenizer.word_index)\n",
    "print(\"number of unique words : \", vocabulary)\n",
    "\n",
    "# output length\n",
    "output_length = le.classes_.shape[0]\n",
    "print(\"output length: \", output_length)"
   ]
  }
 ],
 "metadata": {
  "kernelspec": {
   "display_name": "Python 3",
   "language": "python",
   "name": "python3"
  },
  "language_info": {
   "codemirror_mode": {
    "name": "ipython",
    "version": 3
   },
   "file_extension": ".py",
   "mimetype": "text/x-python",
   "name": "python",
   "nbconvert_exporter": "python",
   "pygments_lexer": "ipython3",
   "version": "3.9.12"
  },
  "orig_nbformat": 4,
  "vscode": {
   "interpreter": {
    "hash": "a9021e1fd6d67f73e12a14ed5a87d96cabedc314ee6c78614e8099b32f01ade0"
   }
  }
 },
 "nbformat": 4,
 "nbformat_minor": 2
}
