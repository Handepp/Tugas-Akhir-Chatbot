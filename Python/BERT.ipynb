{
 "cells": [
  {
   "attachments": {},
   "cell_type": "markdown",
   "metadata": {},
   "source": [
    "# SaVi Chatbot"
   ]
  },
  {
   "attachments": {},
   "cell_type": "markdown",
   "metadata": {},
   "source": [
    "### Install Library"
   ]
  },
  {
   "cell_type": "code",
   "execution_count": 7,
   "metadata": {},
   "outputs": [
    {
     "data": {
      "text/plain": [
       "\"# Package sentence tokenizer\\nnltk.download('punkt') \\n# Package lemmatization\\nnltk.download('wordnet')\\n# Package multilingual wordnet data\\nnltk.download('omw-1.4')\""
      ]
     },
     "execution_count": 7,
     "metadata": {},
     "output_type": "execute_result"
    }
   ],
   "source": [
    "import random\n",
    "import numpy as np \n",
    "import pandas as pd \n",
    "\n",
    "import matplotlib.pyplot as plt\n",
    "import seaborn as sns\n",
    "import json\n",
    "import nltk\n",
    "import time\n",
    "import re\n",
    "import swifter\n",
    "\n",
    "from sklearn.model_selection import train_test_split\n",
    "from sklearn.preprocessing import LabelEncoder\n",
    "import tensorflow as tf\n",
    "import transformers\n",
    "from transformers import BertTokenizer\n",
    "from transformers import TFBertForSequenceClassification\n",
    "\n",
    "from nltk.stem import WordNetLemmatizer\n",
    "from keras.utils.vis_utils import plot_model\n",
    "from tensorflow.keras.models import Model\n",
    "\n",
    "from urllib import request\n",
    "\n",
    "import warnings\n",
    "warnings.filterwarnings(\"ignore\")\n",
    "\n",
    "'''# Package sentence tokenizer\n",
    "nltk.download('punkt') \n",
    "# Package lemmatization\n",
    "nltk.download('wordnet')\n",
    "# Package multilingual wordnet data\n",
    "nltk.download('omw-1.4')'''"
   ]
  },
  {
   "attachments": {},
   "cell_type": "markdown",
   "metadata": {},
   "source": [
    "### Data Acquisition"
   ]
  },
  {
   "cell_type": "code",
   "execution_count": 8,
   "metadata": {},
   "outputs": [
    {
     "data": {
      "text/plain": [
       "('Data_Wahana.json', <http.client.HTTPMessage at 0x28a2e15de50>)"
      ]
     },
     "execution_count": 8,
     "metadata": {},
     "output_type": "execute_result"
    }
   ],
   "source": [
    "url = \"https://raw.githubusercontent.com/Handepp/Tugas-Akhir-Chatbot/main/Dataset/Data_Wahana.json\"\n",
    "request.urlretrieve(url, \"Data_Wahana.json\")"
   ]
  },
  {
   "cell_type": "code",
   "execution_count": 9,
   "metadata": {},
   "outputs": [],
   "source": [
    "# Importing the dataset\n",
    "with open('Data_Wahana.json') as content:\n",
    "  data1 = json.load(content)\n",
    "\n",
    "# Mendapatkan semua data ke dalam list\n",
    "tags = [] # data tag\n",
    "inputs = [] # data input atau pattern\n",
    "responses = {} # data respon\n",
    "words = [] # Data kata \n",
    "classes = [] # Data Kelas atau Tag\n",
    "documents = [] # Data Kalimat Dokumen\n",
    "ignore_words = ['?', '!'] # Mengabaikan tanda spesial karakter\n",
    "\n",
    "for intent in data1['intents']:\n",
    "  responses[intent['tag']]=intent['responses']\n",
    "  for lines in intent['patterns']:\n",
    "    inputs.append(lines)\n",
    "    tags.append(intent['tag'])\n",
    "    for pattern in intent['patterns']:\n",
    "      w = nltk.word_tokenize(pattern)\n",
    "      words.extend(w)\n",
    "      documents.append((w, intent['tag']))\n",
    "      # add to our classes list\n",
    "      if intent['tag'] not in classes:\n",
    "        classes.append(intent['tag'])\n",
    "\n",
    "# Konversi data json ke dalam dataframe\n",
    "data = pd.DataFrame({\"patterns\":inputs, \"tags\":tags})"
   ]
  },
  {
   "cell_type": "code",
   "execution_count": 10,
   "metadata": {},
   "outputs": [
    {
     "data": {
      "text/html": [
       "<div>\n",
       "<style scoped>\n",
       "    .dataframe tbody tr th:only-of-type {\n",
       "        vertical-align: middle;\n",
       "    }\n",
       "\n",
       "    .dataframe tbody tr th {\n",
       "        vertical-align: top;\n",
       "    }\n",
       "\n",
       "    .dataframe thead th {\n",
       "        text-align: right;\n",
       "    }\n",
       "</style>\n",
       "<table border=\"1\" class=\"dataframe\">\n",
       "  <thead>\n",
       "    <tr style=\"text-align: right;\">\n",
       "      <th></th>\n",
       "      <th>patterns</th>\n",
       "      <th>tags</th>\n",
       "    </tr>\n",
       "  </thead>\n",
       "  <tbody>\n",
       "    <tr>\n",
       "      <th>0</th>\n",
       "      <td>Siapa kamu?</td>\n",
       "      <td>SAVI.siapa</td>\n",
       "    </tr>\n",
       "    <tr>\n",
       "      <th>1</th>\n",
       "      <td>Kamu siapa?</td>\n",
       "      <td>SAVI.siapa</td>\n",
       "    </tr>\n",
       "    <tr>\n",
       "      <th>2</th>\n",
       "      <td>Ini apa?</td>\n",
       "      <td>SAVI.siapa</td>\n",
       "    </tr>\n",
       "    <tr>\n",
       "      <th>3</th>\n",
       "      <td>Kamu apa?</td>\n",
       "      <td>SAVI.siapa</td>\n",
       "    </tr>\n",
       "    <tr>\n",
       "      <th>4</th>\n",
       "      <td>Robot apakah kamu?</td>\n",
       "      <td>SAVI.siapa</td>\n",
       "    </tr>\n",
       "    <tr>\n",
       "      <th>...</th>\n",
       "      <td>...</td>\n",
       "      <td>...</td>\n",
       "    </tr>\n",
       "    <tr>\n",
       "      <th>279</th>\n",
       "      <td>Belok ke arah kiri</td>\n",
       "      <td>SAVI.kiri</td>\n",
       "    </tr>\n",
       "    <tr>\n",
       "      <th>280</th>\n",
       "      <td>kiri kiri kiri</td>\n",
       "      <td>SAVI.kiri</td>\n",
       "    </tr>\n",
       "    <tr>\n",
       "      <th>281</th>\n",
       "      <td>Ke kiri</td>\n",
       "      <td>SAVI.kiri</td>\n",
       "    </tr>\n",
       "    <tr>\n",
       "      <th>282</th>\n",
       "      <td>Lihat ke kiri</td>\n",
       "      <td>SAVI.kiri</td>\n",
       "    </tr>\n",
       "    <tr>\n",
       "      <th>283</th>\n",
       "      <td>Menatap ke kiri</td>\n",
       "      <td>SAVI.kiri</td>\n",
       "    </tr>\n",
       "  </tbody>\n",
       "</table>\n",
       "<p>284 rows × 2 columns</p>\n",
       "</div>"
      ],
      "text/plain": [
       "               patterns        tags\n",
       "0           Siapa kamu?  SAVI.siapa\n",
       "1           Kamu siapa?  SAVI.siapa\n",
       "2              Ini apa?  SAVI.siapa\n",
       "3             Kamu apa?  SAVI.siapa\n",
       "4    Robot apakah kamu?  SAVI.siapa\n",
       "..                  ...         ...\n",
       "279  Belok ke arah kiri   SAVI.kiri\n",
       "280      kiri kiri kiri   SAVI.kiri\n",
       "281             Ke kiri   SAVI.kiri\n",
       "282       Lihat ke kiri   SAVI.kiri\n",
       "283     Menatap ke kiri   SAVI.kiri\n",
       "\n",
       "[284 rows x 2 columns]"
      ]
     },
     "execution_count": 10,
     "metadata": {},
     "output_type": "execute_result"
    }
   ],
   "source": [
    "# Cetak data keseluruhan\n",
    "data"
   ]
  },
  {
   "cell_type": "code",
   "execution_count": 11,
   "metadata": {},
   "outputs": [
    {
     "data": {
      "text/plain": [
       "SAVI.siapa          15\n",
       "SAVI.buruk          12\n",
       "SAVI.sapa           11\n",
       "SAVI.benar          10\n",
       "SAVI.kanan          10\n",
       "SAVI.stop           10\n",
       "SAVI.usia           10\n",
       "SAVI.kiri           10\n",
       "SAVI.hobby          10\n",
       "SAVI.asal            9\n",
       "SAVI.ngobrol         9\n",
       "SAVI.insaf           9\n",
       "SAVI.mundur          9\n",
       "SAVI.maju            9\n",
       "SAVI.suhu            9\n",
       "SAVI.hump            9\n",
       "SAVI.bos             8\n",
       "SAVI.siap            8\n",
       "SAVI.tanggal         7\n",
       "SAVI.Baterai         7\n",
       "SAVI.fast            7\n",
       "SAVI.medium          7\n",
       "SAVI.slow            7\n",
       "SAVI.beban           7\n",
       "SAVI.lokasi          7\n",
       "SAVI.hari            7\n",
       "SAVI.terimakasih     7\n",
       "SAVI.bantu           7\n",
       "SAVI.jam             6\n",
       "SAVI.berpisah        6\n",
       "SAVI.baik            5\n",
       "SAVI.malam           5\n",
       "SAVI.sore            5\n",
       "SAVI.pagi            5\n",
       "SAVI.siang           5\n",
       "Name: tags, dtype: int64"
      ]
     },
     "execution_count": 11,
     "metadata": {},
     "output_type": "execute_result"
    }
   ],
   "source": [
    "data.tags.value_counts()"
   ]
  },
  {
   "cell_type": "code",
   "execution_count": 12,
   "metadata": {},
   "outputs": [
    {
     "name": "stdout",
     "output_type": "stream",
     "text": [
      "35 classes ['SAVI.Baterai', 'SAVI.asal', 'SAVI.baik', 'SAVI.bantu', 'SAVI.beban', 'SAVI.benar', 'SAVI.berpisah', 'SAVI.bos', 'SAVI.buruk', 'SAVI.fast', 'SAVI.hari', 'SAVI.hobby', 'SAVI.hump', 'SAVI.insaf', 'SAVI.jam', 'SAVI.kanan', 'SAVI.kiri', 'SAVI.lokasi', 'SAVI.maju', 'SAVI.malam', 'SAVI.medium', 'SAVI.mundur', 'SAVI.ngobrol', 'SAVI.pagi', 'SAVI.sapa', 'SAVI.siang', 'SAVI.siap', 'SAVI.siapa', 'SAVI.slow', 'SAVI.sore', 'SAVI.stop', 'SAVI.suhu', 'SAVI.tanggal', 'SAVI.terimakasih', 'SAVI.usia']\n"
     ]
    }
   ],
   "source": [
    "# sort classes\n",
    "classes = sorted(list(set(classes)))\n",
    "print (len(classes), \"classes\", classes)"
   ]
  },
  {
   "attachments": {},
   "cell_type": "markdown",
   "metadata": {},
   "source": [
    "### Preprocessing"
   ]
  },
  {
   "cell_type": "code",
   "execution_count": 13,
   "metadata": {},
   "outputs": [],
   "source": [
    "def casefolding(text):\n",
    "  text = text.lower()                               # Mengubah teks menjadi lower case\n",
    "  text = re.sub(r'https?://\\S+|www\\.\\S+', '', text) # Menghapus URL\n",
    "  #text = re.sub(r'[-+]?[0-9]+', '', text)           # Menghapus angka\n",
    "  text = re.sub(r'[^\\w\\s]','', text)                # Menghapus karakter tanda baca\n",
    "  text = text.strip()                               # Menghapus whitespaces\n",
    "  return text"
   ]
  },
  {
   "cell_type": "code",
   "execution_count": 14,
   "metadata": {},
   "outputs": [
    {
     "name": "stdout",
     "output_type": "stream",
     "text": [
      "   _id      singkat       hasil\n",
      "0    1         abis       habis\n",
      "1    2       accent     tekanan\n",
      "2    3       accept      terima\n",
      "3    4     accident  kecelakaan\n",
      "4    5  achievement    prestasi\n"
     ]
    }
   ],
   "source": [
    "key= \"https://raw.githubusercontent.com/ksnugroho/klasifikasi-spam-sms/master/data/key_norm.csv\"\n",
    "request.urlretrieve(key, \"key_norm.csv\")\n",
    "key_norm = pd.read_csv('key_norm.csv')\n",
    "print(key_norm.head())"
   ]
  },
  {
   "cell_type": "code",
   "execution_count": 15,
   "metadata": {},
   "outputs": [],
   "source": [
    "def text_normalize(text):\n",
    "  text = ' '.join([key_norm[key_norm['singkat'] == word]['hasil'].values[0] if (key_norm['singkat'] == word).any() else word for word in text.split()])\n",
    "  text = str.lower(text)\n",
    "  return text"
   ]
  },
  {
   "cell_type": "code",
   "execution_count": 16,
   "metadata": {},
   "outputs": [],
   "source": [
    "from Sastrawi.Stemmer.StemmerFactory import StemmerFactory\n",
    "\n",
    "factory = StemmerFactory()\n",
    "stemmer = factory.create_stemmer()\n",
    "\n",
    "# Buat fungsi untuk langkah stemming bahasa Indonesia\n",
    "def stemming(text):\n",
    "  text = stemmer.stem(text)\n",
    "  return text"
   ]
  },
  {
   "cell_type": "code",
   "execution_count": 17,
   "metadata": {},
   "outputs": [],
   "source": [
    "def text_preprocessing_process(text):\n",
    "  text = casefolding(text)\n",
    "  text = text_normalize(text)\n",
    "  text = stemming(text)\n",
    "  return text"
   ]
  },
  {
   "cell_type": "code",
   "execution_count": 18,
   "metadata": {},
   "outputs": [
    {
     "data": {
      "application/vnd.jupyter.widget-view+json": {
       "model_id": "5e0bad74b4a1402fadbfba1bb90309ed",
       "version_major": 2,
       "version_minor": 0
      },
      "text/plain": [
       "Pandas Apply:   0%|          | 0/284 [00:00<?, ?it/s]"
      ]
     },
     "metadata": {},
     "output_type": "display_data"
    },
    {
     "name": "stdout",
     "output_type": "stream",
     "text": [
      "CPU times: total: 4.89 s\n",
      "Wall time: 4.94 s\n"
     ]
    }
   ],
   "source": [
    "%%time\n",
    "data['patterns'] = data['patterns'].swifter.apply(text_preprocessing_process)"
   ]
  },
  {
   "cell_type": "code",
   "execution_count": 19,
   "metadata": {},
   "outputs": [
    {
     "data": {
      "text/html": [
       "<div>\n",
       "<style scoped>\n",
       "    .dataframe tbody tr th:only-of-type {\n",
       "        vertical-align: middle;\n",
       "    }\n",
       "\n",
       "    .dataframe tbody tr th {\n",
       "        vertical-align: top;\n",
       "    }\n",
       "\n",
       "    .dataframe thead th {\n",
       "        text-align: right;\n",
       "    }\n",
       "</style>\n",
       "<table border=\"1\" class=\"dataframe\">\n",
       "  <thead>\n",
       "    <tr style=\"text-align: right;\">\n",
       "      <th></th>\n",
       "      <th>patterns</th>\n",
       "      <th>tags</th>\n",
       "    </tr>\n",
       "  </thead>\n",
       "  <tbody>\n",
       "    <tr>\n",
       "      <th>0</th>\n",
       "      <td>siapa kamu</td>\n",
       "      <td>SAVI.siapa</td>\n",
       "    </tr>\n",
       "    <tr>\n",
       "      <th>1</th>\n",
       "      <td>kamu siapa</td>\n",
       "      <td>SAVI.siapa</td>\n",
       "    </tr>\n",
       "    <tr>\n",
       "      <th>2</th>\n",
       "      <td>ini apa</td>\n",
       "      <td>SAVI.siapa</td>\n",
       "    </tr>\n",
       "    <tr>\n",
       "      <th>3</th>\n",
       "      <td>kamu apa</td>\n",
       "      <td>SAVI.siapa</td>\n",
       "    </tr>\n",
       "    <tr>\n",
       "      <th>4</th>\n",
       "      <td>robot apakah kamu</td>\n",
       "      <td>SAVI.siapa</td>\n",
       "    </tr>\n",
       "    <tr>\n",
       "      <th>...</th>\n",
       "      <td>...</td>\n",
       "      <td>...</td>\n",
       "    </tr>\n",
       "    <tr>\n",
       "      <th>279</th>\n",
       "      <td>belok ke arah kiri</td>\n",
       "      <td>SAVI.kiri</td>\n",
       "    </tr>\n",
       "    <tr>\n",
       "      <th>280</th>\n",
       "      <td>kiri kiri kiri</td>\n",
       "      <td>SAVI.kiri</td>\n",
       "    </tr>\n",
       "    <tr>\n",
       "      <th>281</th>\n",
       "      <td>ke kiri</td>\n",
       "      <td>SAVI.kiri</td>\n",
       "    </tr>\n",
       "    <tr>\n",
       "      <th>282</th>\n",
       "      <td>lihat ke kiri</td>\n",
       "      <td>SAVI.kiri</td>\n",
       "    </tr>\n",
       "    <tr>\n",
       "      <th>283</th>\n",
       "      <td>tatap ke kiri</td>\n",
       "      <td>SAVI.kiri</td>\n",
       "    </tr>\n",
       "  </tbody>\n",
       "</table>\n",
       "<p>284 rows × 2 columns</p>\n",
       "</div>"
      ],
      "text/plain": [
       "               patterns        tags\n",
       "0            siapa kamu  SAVI.siapa\n",
       "1            kamu siapa  SAVI.siapa\n",
       "2               ini apa  SAVI.siapa\n",
       "3              kamu apa  SAVI.siapa\n",
       "4     robot apakah kamu  SAVI.siapa\n",
       "..                  ...         ...\n",
       "279  belok ke arah kiri   SAVI.kiri\n",
       "280      kiri kiri kiri   SAVI.kiri\n",
       "281             ke kiri   SAVI.kiri\n",
       "282       lihat ke kiri   SAVI.kiri\n",
       "283       tatap ke kiri   SAVI.kiri\n",
       "\n",
       "[284 rows x 2 columns]"
      ]
     },
     "execution_count": 19,
     "metadata": {},
     "output_type": "execute_result"
    }
   ],
   "source": [
    "data"
   ]
  },
  {
   "attachments": {},
   "cell_type": "markdown",
   "metadata": {},
   "source": [
    "## BERT"
   ]
  },
  {
   "cell_type": "code",
   "execution_count": 20,
   "metadata": {},
   "outputs": [],
   "source": [
    "labelencoder = LabelEncoder()\n",
    "data['tags'] = labelencoder.fit_transform(data['tags'])"
   ]
  },
  {
   "cell_type": "code",
   "execution_count": 21,
   "metadata": {},
   "outputs": [
    {
     "data": {
      "text/plain": [
       "((227, 2), (12, 2), (45, 2))"
      ]
     },
     "execution_count": 21,
     "metadata": {},
     "output_type": "execute_result"
    }
   ],
   "source": [
    "df_train, df_test = train_test_split(data, test_size=0.2)\n",
    "df_val, df_test = train_test_split(df_test, test_size=0.2)\n",
    "\n",
    "df_train.shape, df_test.shape, df_val.shape"
   ]
  },
  {
   "cell_type": "code",
   "execution_count": 22,
   "metadata": {},
   "outputs": [],
   "source": [
    "# Tentukan pre-trained model yang akan digunakan untuk fine-tuning\n",
    "# Daftar model dapat ditemukan pada https://huggingface.co\n",
    "\n",
    "PRE_TRAINED_MODEL = 'indobenchmark/indobert-base-p2'  # https://huggingface.co/indobenchmark/indobert-base-p2\n",
    "bert_tokenizer = BertTokenizer.from_pretrained(PRE_TRAINED_MODEL)  # Load tokenizer dari pre-trained model\n",
    "vocabulary = bert_tokenizer.get_vocab()"
   ]
  },
  {
   "cell_type": "code",
   "execution_count": 23,
   "metadata": {},
   "outputs": [
    {
     "data": {
      "image/png": "[encoded data removed]",
      "text/plain": [
       "<Figure size 640x480 with 1 Axes>"
      ]
     },
     "metadata": {},
     "output_type": "display_data"
    }
   ],
   "source": [
    "token_lens = []\n",
    "\n",
    "for txt in data.patterns:\n",
    "  tokens = bert_tokenizer.encode(txt)\n",
    "  token_lens.append(len(tokens))\n",
    "\n",
    "sns.histplot(token_lens, kde=True, stat='density', linewidth=0)\n",
    "plt.xlim([0, 15]);\n",
    "plt.xlabel('Token count');"
   ]
  },
  {
   "cell_type": "code",
   "execution_count": 24,
   "metadata": {},
   "outputs": [],
   "source": [
    "MAX_LEN = 11"
   ]
  },
  {
   "cell_type": "code",
   "execution_count": 25,
   "metadata": {},
   "outputs": [],
   "source": [
    "def convert_example_to_feature(sentence):  \n",
    "  return bert_tokenizer.encode_plus(\n",
    "      sentence, \n",
    "      add_special_tokens = True, \n",
    "      padding = 'max_length',\n",
    "      truncation = 'longest_first',\n",
    "      max_length = MAX_LEN, \n",
    "      return_attention_mask = True, \n",
    "      return_token_type_ids=True\n",
    "    )\n",
    "\n",
    "def map_example_to_dict(input_ids, attention_masks, token_type_ids, label):\n",
    "  return {\n",
    "      \"input_ids\": input_ids,               # Sebagai token embedding\n",
    "      \"token_type_ids\": token_type_ids,     # Sebagai segment embedding\n",
    "      \"attention_mask\": attention_masks,    # Sebagai filter informasi mana yang kalkulasi oleh model\n",
    "  }, label\n",
    "\n",
    "# Buat fungsi untuk iterasi pada setiap kalimat pada keseluruhan data\n",
    "def encode(data):\n",
    "  input_ids_list = []\n",
    "  token_type_ids_list = []\n",
    "  attention_mask_list = []\n",
    "  label_list = []\n",
    "    \n",
    "  for sentence, label in data.to_numpy():\n",
    "\n",
    "    bert_input = convert_example_to_feature(sentence)\n",
    "  \n",
    "    input_ids_list.append(bert_input['input_ids'])\n",
    "    token_type_ids_list.append(bert_input['token_type_ids'])\n",
    "    attention_mask_list.append(bert_input['attention_mask'])\n",
    "    label_list.append([label])\n",
    "\n",
    "  return tf.data.Dataset.from_tensor_slices((input_ids_list, attention_mask_list, token_type_ids_list, label_list)).map(map_example_to_dict)"
   ]
  },
  {
   "cell_type": "code",
   "execution_count": 26,
   "metadata": {},
   "outputs": [],
   "source": [
    "EPOCHS = 20\n",
    "BATCH_SIZE = 32\n",
    "LEARNING_RATE = 5e-5"
   ]
  },
  {
   "cell_type": "code",
   "execution_count": 27,
   "metadata": {},
   "outputs": [],
   "source": [
    "# Lakukan input formatting menggunakan fungsi sebelumnya pada data keseluruhan data\n",
    "train_encoded = encode(df_train).batch(BATCH_SIZE)\n",
    "test_encoded = encode(df_test).batch(BATCH_SIZE)\n",
    "val_encoded = encode(df_val).batch(BATCH_SIZE)"
   ]
  },
  {
   "cell_type": "code",
   "execution_count": 28,
   "metadata": {},
   "outputs": [
    {
     "name": "stderr",
     "output_type": "stream",
     "text": [
      "All model checkpoint layers were used when initializing TFBertForSequenceClassification.\n",
      "\n",
      "Some layers of TFBertForSequenceClassification were not initialized from the model checkpoint at indobenchmark/indobert-base-p2 and are newly initialized: ['classifier']\n",
      "You should probably TRAIN this model on a down-stream task to be able to use it for predictions and inference.\n"
     ]
    }
   ],
   "source": [
    "bert_model = TFBertForSequenceClassification.from_pretrained(PRE_TRAINED_MODEL, num_labels=35)\n",
    "\n",
    "optimizer = tf.keras.optimizers.Adam(learning_rate=LEARNING_RATE)\n",
    "\n",
    "# Karena tidak menggunakan one-hot vectors, sehingga loss function dapat menggunakan sparse categorical cross entropy\n",
    "loss = tf.keras.losses.SparseCategoricalCrossentropy(from_logits=True)\n",
    "metric = tf.keras.metrics.SparseCategoricalAccuracy('accuracy')\n",
    "\n",
    "# Compile model\n",
    "bert_model.compile(optimizer=optimizer, loss=loss, metrics=[metric])"
   ]
  },
  {
   "cell_type": "code",
   "execution_count": 29,
   "metadata": {},
   "outputs": [
    {
     "name": "stdout",
     "output_type": "stream",
     "text": [
      "Epoch 1/20\n",
      "8/8 [==============================] - 19s 606ms/step - loss: 3.4153 - accuracy: 0.1366 - val_loss: 3.0648 - val_accuracy: 0.3556\n",
      "Epoch 2/20\n",
      "8/8 [==============================] - 2s 216ms/step - loss: 2.5753 - accuracy: 0.5419 - val_loss: 2.4342 - val_accuracy: 0.5556\n",
      "Epoch 3/20\n",
      "8/8 [==============================] - 2s 220ms/step - loss: 1.9268 - accuracy: 0.7181 - val_loss: 1.9451 - val_accuracy: 0.6444\n",
      "Epoch 4/20\n",
      "8/8 [==============================] - 2s 216ms/step - loss: 1.4077 - accuracy: 0.8722 - val_loss: 1.5363 - val_accuracy: 0.7333\n",
      "Epoch 5/20\n",
      "8/8 [==============================] - 2s 213ms/step - loss: 1.0050 - accuracy: 0.9207 - val_loss: 1.1634 - val_accuracy: 0.8222\n",
      "Epoch 6/20\n",
      "8/8 [==============================] - 2s 215ms/step - loss: 0.6980 - accuracy: 0.9736 - val_loss: 0.8929 - val_accuracy: 0.8444\n",
      "Epoch 7/20\n",
      "8/8 [==============================] - 2s 215ms/step - loss: 0.4863 - accuracy: 0.9912 - val_loss: 0.7025 - val_accuracy: 0.9333\n",
      "Epoch 8/20\n",
      "8/8 [==============================] - 2s 216ms/step - loss: 0.3613 - accuracy: 1.0000 - val_loss: 0.5431 - val_accuracy: 0.9556\n",
      "Epoch 9/20\n",
      "8/8 [==============================] - 2s 217ms/step - loss: 0.2723 - accuracy: 1.0000 - val_loss: 0.4358 - val_accuracy: 0.9556\n",
      "Epoch 10/20\n",
      "8/8 [==============================] - 2s 213ms/step - loss: 0.2161 - accuracy: 1.0000 - val_loss: 0.3817 - val_accuracy: 0.9556\n",
      "Epoch 11/20\n",
      "8/8 [==============================] - 2s 213ms/step - loss: 0.1762 - accuracy: 1.0000 - val_loss: 0.3262 - val_accuracy: 0.9778\n",
      "Epoch 12/20\n",
      "8/8 [==============================] - 2s 214ms/step - loss: 0.1494 - accuracy: 1.0000 - val_loss: 0.2848 - val_accuracy: 1.0000\n",
      "Epoch 13/20\n",
      "8/8 [==============================] - 2s 215ms/step - loss: 0.1294 - accuracy: 1.0000 - val_loss: 0.2591 - val_accuracy: 1.0000\n",
      "Epoch 14/20\n",
      "8/8 [==============================] - 2s 216ms/step - loss: 0.1143 - accuracy: 1.0000 - val_loss: 0.2380 - val_accuracy: 1.0000\n",
      "Epoch 15/20\n",
      "8/8 [==============================] - 2s 216ms/step - loss: 0.1029 - accuracy: 1.0000 - val_loss: 0.2190 - val_accuracy: 1.0000\n",
      "Epoch 16/20\n",
      "8/8 [==============================] - 2s 214ms/step - loss: 0.0917 - accuracy: 1.0000 - val_loss: 0.2050 - val_accuracy: 1.0000\n",
      "Epoch 17/20\n",
      "8/8 [==============================] - 2s 214ms/step - loss: 0.0846 - accuracy: 1.0000 - val_loss: 0.1972 - val_accuracy: 1.0000\n",
      "Epoch 18/20\n",
      "8/8 [==============================] - 2s 216ms/step - loss: 0.0787 - accuracy: 1.0000 - val_loss: 0.1888 - val_accuracy: 1.0000\n",
      "Epoch 19/20\n",
      "8/8 [==============================] - 2s 215ms/step - loss: 0.0717 - accuracy: 1.0000 - val_loss: 0.1788 - val_accuracy: 1.0000\n",
      "Epoch 20/20\n",
      "8/8 [==============================] - 2s 215ms/step - loss: 0.0681 - accuracy: 1.0000 - val_loss: 0.1720 - val_accuracy: 1.0000\n",
      "CPU times: total: 55.8 s\n",
      "Wall time: 52.6 s\n"
     ]
    }
   ],
   "source": [
    "%%time\n",
    "bert_history = bert_model.fit(train_encoded, epochs=EPOCHS, batch_size=BATCH_SIZE, validation_data=val_encoded)"
   ]
  },
  {
   "cell_type": "code",
   "execution_count": 30,
   "metadata": {},
   "outputs": [],
   "source": [
    "# Buat fungsi untuk plotting hasil training\n",
    "def plot_graphs(history, string):\n",
    "  plt.plot(history.history[string])\n",
    "  plt.plot(history.history['val_'+string])\n",
    "  plt.xlabel('Epochs')\n",
    "  plt.ylabel(string)\n",
    "  plt.legend([string, 'val_'+string])\n",
    "  plt.show()"
   ]
  },
  {
   "cell_type": "code",
   "execution_count": 31,
   "metadata": {},
   "outputs": [
    {
     "data": {
      "image/png": "[encoded data removed]",
      "text/plain": [
       "<Figure size 640x480 with 1 Axes>"
      ]
     },
     "metadata": {},
     "output_type": "display_data"
    },
    {
     "data": {
      "image/png": "[encoded data removed]",
      "text/plain": [
       "<Figure size 640x480 with 1 Axes>"
      ]
     },
     "metadata": {},
     "output_type": "display_data"
    }
   ],
   "source": [
    "plot_graphs(bert_history, 'accuracy')\n",
    "plot_graphs(bert_history, 'loss')"
   ]
  },
  {
   "cell_type": "code",
   "execution_count": 34,
   "metadata": {},
   "outputs": [],
   "source": [
    "bert_model.save_weights('Model/bert-SAVI.h5')"
   ]
  },
  {
   "cell_type": "code",
   "execution_count": 33,
   "metadata": {},
   "outputs": [
    {
     "name": "stdout",
     "output_type": "stream",
     "text": [
      "1/1 [==============================] - 0s 390ms/step - loss: 0.2085 - accuracy: 1.0000\n",
      "Test Accuracy: 1.0\n"
     ]
    }
   ],
   "source": [
    "score = bert_model.evaluate(test_encoded)\n",
    "\n",
    "print(\"Test Accuracy:\", score[1])"
   ]
  }
 ],
 "metadata": {
  "kernelspec": {
   "display_name": "Python 3",
   "language": "python",
   "name": "python3"
  },
  "language_info": {
   "codemirror_mode": {
    "name": "ipython",
    "version": 3
   },
   "file_extension": ".py",
   "mimetype": "text/x-python",
   "name": "python",
   "nbconvert_exporter": "python",
   "pygments_lexer": "ipython3",
   "version": "3.9.12"
  },
  "orig_nbformat": 4,
  "vscode": {
   "interpreter": {
    "hash": "a9021e1fd6d67f73e12a14ed5a87d96cabedc314ee6c78614e8099b32f01ade0"
   }
  }
 },
 "nbformat": 4,
 "nbformat_minor": 2
}
